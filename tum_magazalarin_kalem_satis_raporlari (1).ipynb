{
 "cells": [
  {
   "cell_type": "markdown",
   "id": "b943d2ae",
   "metadata": {},
   "source": [
    "### bazı eksik ve yanlış anladığım kısımları isterler dokümanında inceledikten sonra tekrardan fark ettim ve toparlanmış bir biçimde kalem id'lerine göre modelleme olarak toparlanmış notebook'u oluşturuyorum"
   ]
  },
  {
   "cell_type": "code",
   "execution_count": 1,
   "id": "8250a975",
   "metadata": {},
   "outputs": [],
   "source": [
    "import pandas as pd\n",
    "import numpy as np\n",
    "import matplotlib.pyplot as plt\n",
    "import pickle\n",
    "import seaborn as sns\n",
    "from sklearn.preprocessing import MinMaxScaler\n",
    "import statsmodels.api as sm\n",
    "from sklearn.metrics import mean_squared_error\n",
    "from sklearn.metrics import r2_score\n",
    "from sklearn.linear_model import LinearRegression\n",
    "from sklearn.model_selection import train_test_split\n",
    "from sklearn.metrics import accuracy_score\n",
    "from sklearn.linear_model import LinearRegression\n",
    "from sklearn import metrics\n",
    "from sklearn.preprocessing import PolynomialFeatures\n",
    "from sklearn.preprocessing import StandardScaler\n",
    "from sklearn.svm import SVR\n",
    "from sklearn.tree import DecisionTreeRegressor\n",
    "from sklearn.tree import DecisionTreeClassifier\n",
    "from sklearn.model_selection import GridSearchCV, cross_val_score, cross_val_predict, train_test_split\n",
    "from sklearn.model_selection import GridSearchCV, cross_val_score, cross_val_predict, train_test_split\n",
    "from sklearn.ensemble import RandomForestRegressor\n",
    "from sklearn.preprocessing import LabelEncoder\n",
    "from sklearn.preprocessing import Normalizer\n",
    "from sklearn.impute import SimpleImputer\n",
    "from sklearn.linear_model import LogisticRegression\n",
    "from sklearn.linear_model import LogisticRegressionCV\n",
    "from sklearn.metrics import confusion_matrix\n",
    "from sklearn.metrics import classification_report\n",
    "from sklearn.model_selection import cross_val_score\n",
    "import math\n",
    "from sklearn.neighbors import KNeighborsClassifier\n",
    "from sklearn.metrics import roc_curve, auc\n",
    "from sklearn.metrics import roc_auc_score\n",
    "from sklearn.covariance import EmpiricalCovariance\n",
    "from sklearn.metrics import f1_score\n",
    "from sklearn.metrics import ConfusionMatrixDisplay\n",
    "from sklearn.svm import SVC\n",
    "from sklearn.datasets import make_classification\n",
    "from sklearn.datasets import make_circles\n",
    "from sklearn import preprocessing\n",
    "from sklearn.naive_bayes import GaussianNB\n",
    "from sklearn.naive_bayes import BernoulliNB\n",
    "from sklearn.naive_bayes import MultinomialNB\n",
    "from sklearn.tree import DecisionTreeClassifier\n",
    "from sklearn.ensemble import RandomForestClassifier\n",
    "from xgboost import XGBRegressor\n",
    "from mpl_toolkits.mplot3d import Axes3D\n",
    "from sklearn import datasets\n",
    "from sklearn.multioutput import RegressorChain\n",
    "from sklearn.cluster import KMeans\n",
    "import numpy as np\n",
    "np.random.seed(123)\n",
    "from statsmodels.graphics.tsaplots import plot_acf, plot_pacf\n",
    "from sklearn.model_selection import TimeSeriesSplit\n",
    "import seaborn as sns\n",
    "sns.set_style('dark')\n",
    "from datetime import datetime, timedelta\n",
    "%matplotlib inline\n",
    "from matplotlib.pylab import rcParams\n",
    "rcParams['figure.figsize'] = (15, 6)\n",
    "import matplotlib.pyplot as plt\n",
    "import pandas as pd\n",
    "import math\n",
    "\n",
    "import tensorflow as tf\n",
    "tf.random.set_seed(1)\n",
    "import pmdarima as pm\n",
    "import pandas as pd\n",
    "import numpy as np\n",
    "from pmdarima import model_selection\n",
    "import numpy as np\n",
    "from matplotlib import pyplot as plt\n",
    "import seaborn as sns\n",
    "\n",
    "from statsmodels.tsa.stattools import acf, pacf, adfuller\n",
    "from statsmodels.graphics.tsaplots import plot_acf, plot_pacf\n",
    "from statsmodels.tsa.seasonal import seasonal_decompose\n",
    "\n",
    "from statsmodels.tsa.arima_model import ARIMA\n",
    "from sklearn.metrics import mean_absolute_percentage_error, mean_squared_error\n",
    "\n",
    "from statsmodels.tsa.stattools import adfuller\n",
    "from statsmodels.tsa.seasonal import seasonal_decompose\n",
    "from statsmodels.tsa.arima_model import ARIMA\n",
    "from pmdarima.arima import auto_arima\n",
    "from sklearn.metrics import mean_squared_error, mean_absolute_error\n",
    "import math\n",
    "import numpy as np\n",
    "import plotly.express as px\n",
    "\n",
    "\n",
    "\n",
    "from statsmodels.tsa.api import VAR\n",
    "from statsmodels.tsa.stattools import adfuller\n",
    "from statsmodels.tools.eval_measures import rmse, aic\n",
    "import keras\n",
    "from keras import optimizers\n",
    "from keras.models import Sequential\n",
    "from keras.layers import Dense\n",
    "from keras.layers import Conv1D, MaxPooling1D  # Import directly from keras.layers\n",
    "from keras.layers import LSTM, RepeatVector, TimeDistributed, Flatten\n",
    "from keras.layers import SimpleRNN, GRU, LSTM\n",
    "from keras.layers import SimpleRNN, GRU, LSTM\n",
    "from sklearn.preprocessing import MinMaxScaler\n",
    "from sklearn.metrics import mean_squared_error\n",
    "from IPython.display import set_matplotlib_formats\n",
    "import itertools\n",
    "import warnings\n",
    "\n",
    "\n",
    "warnings.filterwarnings('ignore')\n",
    "\n",
    "from pandas import read_csv\n",
    "from matplotlib import pyplot"
   ]
  },
  {
   "cell_type": "code",
   "execution_count": 117,
   "id": "457056c5",
   "metadata": {},
   "outputs": [
    {
     "data": {
      "text/html": [
       "<div>\n",
       "<style scoped>\n",
       "    .dataframe tbody tr th:only-of-type {\n",
       "        vertical-align: middle;\n",
       "    }\n",
       "\n",
       "    .dataframe tbody tr th {\n",
       "        vertical-align: top;\n",
       "    }\n",
       "\n",
       "    .dataframe thead th {\n",
       "        text-align: right;\n",
       "    }\n",
       "</style>\n",
       "<table border=\"1\" class=\"dataframe\">\n",
       "  <thead>\n",
       "    <tr style=\"text-align: right;\">\n",
       "      <th></th>\n",
       "      <th>db_id</th>\n",
       "      <th>kalem</th>\n",
       "      <th>mağaza</th>\n",
       "      <th>tarih</th>\n",
       "      <th>satış adedi</th>\n",
       "      <th>satış tutarı</th>\n",
       "    </tr>\n",
       "  </thead>\n",
       "  <tbody>\n",
       "    <tr>\n",
       "      <th>0</th>\n",
       "      <td>79444</td>\n",
       "      <td>50012011250</td>\n",
       "      <td>312</td>\n",
       "      <td>2019-08-03</td>\n",
       "      <td>3</td>\n",
       "      <td>29.97</td>\n",
       "    </tr>\n",
       "    <tr>\n",
       "      <th>1</th>\n",
       "      <td>79445</td>\n",
       "      <td>50012011250</td>\n",
       "      <td>312</td>\n",
       "      <td>2019-08-04</td>\n",
       "      <td>2</td>\n",
       "      <td>19.98</td>\n",
       "    </tr>\n",
       "    <tr>\n",
       "      <th>2</th>\n",
       "      <td>79446</td>\n",
       "      <td>50012011250</td>\n",
       "      <td>312</td>\n",
       "      <td>2019-08-05</td>\n",
       "      <td>5</td>\n",
       "      <td>49.95</td>\n",
       "    </tr>\n",
       "    <tr>\n",
       "      <th>3</th>\n",
       "      <td>79447</td>\n",
       "      <td>50012011250</td>\n",
       "      <td>312</td>\n",
       "      <td>2019-08-06</td>\n",
       "      <td>3</td>\n",
       "      <td>29.97</td>\n",
       "    </tr>\n",
       "    <tr>\n",
       "      <th>4</th>\n",
       "      <td>79448</td>\n",
       "      <td>50012011250</td>\n",
       "      <td>312</td>\n",
       "      <td>2019-08-07</td>\n",
       "      <td>7</td>\n",
       "      <td>69.93</td>\n",
       "    </tr>\n",
       "    <tr>\n",
       "      <th>...</th>\n",
       "      <td>...</td>\n",
       "      <td>...</td>\n",
       "      <td>...</td>\n",
       "      <td>...</td>\n",
       "      <td>...</td>\n",
       "      <td>...</td>\n",
       "    </tr>\n",
       "    <tr>\n",
       "      <th>19273</th>\n",
       "      <td>82140</td>\n",
       "      <td>50*12011250</td>\n",
       "      <td>632</td>\n",
       "      <td>2017-05-09</td>\n",
       "      <td>2</td>\n",
       "      <td>19.98</td>\n",
       "    </tr>\n",
       "    <tr>\n",
       "      <th>19274</th>\n",
       "      <td>82174</td>\n",
       "      <td>50*12011250</td>\n",
       "      <td>632</td>\n",
       "      <td>2017-06-19</td>\n",
       "      <td>-A45%0 4</td>\n",
       "      <td>NaN</td>\n",
       "    </tr>\n",
       "    <tr>\n",
       "      <th>19275</th>\n",
       "      <td>82341</td>\n",
       "      <td>50*12011250</td>\n",
       "      <td>632</td>\n",
       "      <td>2018-01-09</td>\n",
       "      <td>-A45%0 2</td>\n",
       "      <td>NaN</td>\n",
       "    </tr>\n",
       "    <tr>\n",
       "      <th>19276</th>\n",
       "      <td>82480</td>\n",
       "      <td>50*12011250</td>\n",
       "      <td>632</td>\n",
       "      <td>2018-06-21</td>\n",
       "      <td>2</td>\n",
       "      <td>19.98</td>\n",
       "    </tr>\n",
       "    <tr>\n",
       "      <th>19277</th>\n",
       "      <td>82514</td>\n",
       "      <td>50*12011250</td>\n",
       "      <td>632</td>\n",
       "      <td>2018-08-01</td>\n",
       "      <td>2</td>\n",
       "      <td>19.98</td>\n",
       "    </tr>\n",
       "  </tbody>\n",
       "</table>\n",
       "<p>19278 rows × 6 columns</p>\n",
       "</div>"
      ],
      "text/plain": [
       "       db_id        kalem  mağaza      tarih satış adedi  satış tutarı\n",
       "0      79444  50012011250     312 2019-08-03           3         29.97\n",
       "1      79445  50012011250     312 2019-08-04           2         19.98\n",
       "2      79446  50012011250     312 2019-08-05           5         49.95\n",
       "3      79447  50012011250     312 2019-08-06           3         29.97\n",
       "4      79448  50012011250     312 2019-08-07           7         69.93\n",
       "...      ...          ...     ...        ...         ...           ...\n",
       "19273  82140  50*12011250     632 2017-05-09           2         19.98\n",
       "19274  82174  50*12011250     632 2017-06-19    -A45%0 4           NaN\n",
       "19275  82341  50*12011250     632 2018-01-09    -A45%0 2           NaN\n",
       "19276  82480  50*12011250     632 2018-06-21           2         19.98\n",
       "19277  82514  50*12011250     632 2018-08-01           2         19.98\n",
       "\n",
       "[19278 rows x 6 columns]"
      ]
     },
     "execution_count": 117,
     "metadata": {},
     "output_type": "execute_result"
    }
   ],
   "source": [
    "data = pd.read_excel('magazalar.xlsx')\n",
    "data"
   ]
  },
  {
   "cell_type": "code",
   "execution_count": 116,
   "id": "cc22a095",
   "metadata": {},
   "outputs": [
    {
     "data": {
      "text/html": [
       "<div>\n",
       "<style scoped>\n",
       "    .dataframe tbody tr th:only-of-type {\n",
       "        vertical-align: middle;\n",
       "    }\n",
       "\n",
       "    .dataframe tbody tr th {\n",
       "        vertical-align: top;\n",
       "    }\n",
       "\n",
       "    .dataframe thead th {\n",
       "        text-align: right;\n",
       "    }\n",
       "</style>\n",
       "<table border=\"1\" class=\"dataframe\">\n",
       "  <thead>\n",
       "    <tr style=\"text-align: right;\">\n",
       "      <th></th>\n",
       "      <th>Bölüm</th>\n",
       "      <th>Sınıf</th>\n",
       "      <th>Stil</th>\n",
       "      <th>Renk</th>\n",
       "      <th>Kalem</th>\n",
       "      <th>Maliyet</th>\n",
       "      <th>Fiyat</th>\n",
       "      <th>Tedarikçi</th>\n",
       "    </tr>\n",
       "  </thead>\n",
       "  <tbody>\n",
       "    <tr>\n",
       "      <th>0</th>\n",
       "      <td>800</td>\n",
       "      <td>5</td>\n",
       "      <td>20</td>\n",
       "      <td>2</td>\n",
       "      <td>8000520021</td>\n",
       "      <td>7.5</td>\n",
       "      <td>9.99</td>\n",
       "      <td>Üst Kalite Üretici Firma</td>\n",
       "    </tr>\n",
       "    <tr>\n",
       "      <th>1</th>\n",
       "      <td>800</td>\n",
       "      <td>4</td>\n",
       "      <td>51</td>\n",
       "      <td>11</td>\n",
       "      <td>8000451112</td>\n",
       "      <td>9.0</td>\n",
       "      <td>12.99</td>\n",
       "      <td>Üst Kalite Üretici Firma</td>\n",
       "    </tr>\n",
       "    <tr>\n",
       "      <th>2</th>\n",
       "      <td>731</td>\n",
       "      <td>24</td>\n",
       "      <td>55</td>\n",
       "      <td>52</td>\n",
       "      <td>7312455520</td>\n",
       "      <td>25.0</td>\n",
       "      <td>31.99</td>\n",
       "      <td>Üst Kalite Üretici Firma</td>\n",
       "    </tr>\n",
       "    <tr>\n",
       "      <th>3</th>\n",
       "      <td>731</td>\n",
       "      <td>24</td>\n",
       "      <td>55</td>\n",
       "      <td>53</td>\n",
       "      <td>7312455530</td>\n",
       "      <td>14.5</td>\n",
       "      <td>22.99</td>\n",
       "      <td>Toptancı Firma</td>\n",
       "    </tr>\n",
       "    <tr>\n",
       "      <th>4</th>\n",
       "      <td>5001</td>\n",
       "      <td>201</td>\n",
       "      <td>12</td>\n",
       "      <td>4</td>\n",
       "      <td>50012011240</td>\n",
       "      <td>2.5</td>\n",
       "      <td>7.99</td>\n",
       "      <td>Çinden İthalatçı Firma</td>\n",
       "    </tr>\n",
       "    <tr>\n",
       "      <th>5</th>\n",
       "      <td>5001</td>\n",
       "      <td>201</td>\n",
       "      <td>12</td>\n",
       "      <td>5</td>\n",
       "      <td>50012011250</td>\n",
       "      <td>7.5</td>\n",
       "      <td>9.99</td>\n",
       "      <td>Çinden İthalatçı Firma</td>\n",
       "    </tr>\n",
       "    <tr>\n",
       "      <th>6</th>\n",
       "      <td>5001</td>\n",
       "      <td>201</td>\n",
       "      <td>13</td>\n",
       "      <td>4</td>\n",
       "      <td>50012011341</td>\n",
       "      <td>8.0</td>\n",
       "      <td>6.99</td>\n",
       "      <td>Çinden İthalatçı Firma</td>\n",
       "    </tr>\n",
       "    <tr>\n",
       "      <th>7</th>\n",
       "      <td>5001</td>\n",
       "      <td>300</td>\n",
       "      <td>1</td>\n",
       "      <td>1</td>\n",
       "      <td>50013000110</td>\n",
       "      <td>6.5</td>\n",
       "      <td>12.99</td>\n",
       "      <td>Çinden İthalatçı Firma</td>\n",
       "    </tr>\n",
       "  </tbody>\n",
       "</table>\n",
       "</div>"
      ],
      "text/plain": [
       "   Bölüm  Sınıf  Stil  Renk        Kalem  Maliyet  Fiyat  \\\n",
       "0    800      5    20     2   8000520021      7.5   9.99   \n",
       "1    800      4    51    11   8000451112      9.0  12.99   \n",
       "2    731     24    55    52   7312455520     25.0  31.99   \n",
       "3    731     24    55    53   7312455530     14.5  22.99   \n",
       "4   5001    201    12     4  50012011240      2.5   7.99   \n",
       "5   5001    201    12     5  50012011250      7.5   9.99   \n",
       "6   5001    201    13     4  50012011341      8.0   6.99   \n",
       "7   5001    300     1     1  50013000110      6.5  12.99   \n",
       "\n",
       "                  Tedarikçi  \n",
       "0  Üst Kalite Üretici Firma  \n",
       "1  Üst Kalite Üretici Firma  \n",
       "2  Üst Kalite Üretici Firma  \n",
       "3            Toptancı Firma  \n",
       "4    Çinden İthalatçı Firma  \n",
       "5    Çinden İthalatçı Firma  \n",
       "6    Çinden İthalatçı Firma  \n",
       "7    Çinden İthalatçı Firma  "
      ]
     },
     "execution_count": 116,
     "metadata": {},
     "output_type": "execute_result"
    }
   ],
   "source": [
    "## raw datayı da çekelim\n",
    "raw_data = pd.read_excel('3_Selco_Veri Analizi_XYZGroup_Data_RAW.xlsx')\n",
    "raw_data"
   ]
  },
  {
   "cell_type": "markdown",
   "id": "0c5d4f75",
   "metadata": {},
   "source": [
    "### raw data üzerinden kar değerlerini de data sütununa ek feature olarak eklersek önemli bir değer elde etmiş oluruz. tedarikçisinin kim olduğu veya rengi stili sonraki çıkarımların meselesi"
   ]
  },
  {
   "cell_type": "code",
   "execution_count": 118,
   "id": "93cadfdc",
   "metadata": {},
   "outputs": [
    {
     "data": {
      "text/plain": [
       "kalem      \n",
       "8000520021     4709\n",
       "8000451112     4011\n",
       "50012011250    3045\n",
       "50012011240    2657\n",
       "50012011340    1779\n",
       "7312455520     1236\n",
       "7312455530      909\n",
       "50012011341     765\n",
       "50013000110     137\n",
       "50*12011250      30\n",
       "dtype: int64"
      ]
     },
     "execution_count": 118,
     "metadata": {},
     "output_type": "execute_result"
    }
   ],
   "source": [
    "data[['kalem']].value_counts()"
   ]
  },
  {
   "cell_type": "code",
   "execution_count": 119,
   "id": "e8047d32",
   "metadata": {},
   "outputs": [
    {
     "name": "stdout",
     "output_type": "stream",
     "text": [
      "4709\n",
      "0\n",
      "3045\n"
     ]
    }
   ],
   "source": [
    "print(len(data.loc[data['kalem'] == 8000520021]))\n",
    "print(len(data.query('kalem == 50*12011250')))\n",
    "print(len(data.query('kalem == 50012011250')))"
   ]
  },
  {
   "cell_type": "markdown",
   "id": "c8b44af9",
   "metadata": {},
   "source": [
    "## 50012011340 ve 50*12011250 (değiştirdik artık 50012011250) bu kalem idlerinin fiyat bilgisi raw_dataya girilmemiş çok büyük eksik.\n",
    "\n",
    "## ayrıca 50012011341 id'li kalem serisinde fiyat ve maliyet verisi yanlış girilmiş olabilir kimse zararına kalem satmaz ama yine de şuan için değişiklik yapmıyorum. MÜŞTERİ BU KONUDA UYARILMALI VE NE KADAR ZARAR ETTİĞİ GÖSTERİLMELİ\n",
    "\n",
    "## bu kalem id'lerini kullanmamak en doğrusu olacak"
   ]
  },
  {
   "cell_type": "code",
   "execution_count": 120,
   "id": "5bed551c",
   "metadata": {},
   "outputs": [],
   "source": [
    "data[['kalem']] = data[['kalem']].replace('50*12011250', 50012011250)\n",
    "\n",
    "data.loc[data['kalem'] == 8000520021, 'profit'] = 2.49\n",
    "data.loc[data['kalem'] == 8000451112, 'profit'] = 3.99\n",
    "data.loc[data['kalem'] == 7312455520, 'profit'] = 6.99\n",
    "data.loc[data['kalem'] == 7312455530, 'profit'] = 8.49\n",
    "data.loc[data['kalem'] == 50012011240, 'profit'] = 5.49\n",
    "data.loc[data['kalem'] == 50012011250, 'profit'] = 9.99 - 7.5\n",
    "data.loc[data['kalem'] == 50012011341, 'profit'] = 6.99 - 8 # zararına mı satıyor?\n",
    "data.loc[data['kalem'] == 50013000110, 'profit'] = 12.99 - 6.5"
   ]
  },
  {
   "cell_type": "code",
   "execution_count": 121,
   "id": "e35f0de1",
   "metadata": {
    "scrolled": true
   },
   "outputs": [
    {
     "name": "stdout",
     "output_type": "stream",
     "text": [
      "4709\n",
      "3075\n"
     ]
    }
   ],
   "source": [
    "print(len(data.loc[data['kalem'] == 8000520021]))\n",
    "print(len(data.loc[data['kalem'] == 50012011250]))"
   ]
  },
  {
   "cell_type": "code",
   "execution_count": 122,
   "id": "26e838ff",
   "metadata": {},
   "outputs": [
    {
     "data": {
      "text/plain": [
       "50012011340    1779\n",
       "Name: kalem, dtype: int64"
      ]
     },
     "execution_count": 122,
     "metadata": {},
     "output_type": "execute_result"
    }
   ],
   "source": [
    "data[data['profit'].isna()].kalem.value_counts()"
   ]
  },
  {
   "cell_type": "markdown",
   "id": "1d364877",
   "metadata": {},
   "source": [
    "### profiti NaN olanlara herhangi bir değer vermek doğru olmayabilir. şu an için NaN profitleri datasetten çıkartıyoruz ve müşteriye bu id'deki kalemlerin verisini vermesini istiyoruz"
   ]
  },
  {
   "cell_type": "code",
   "execution_count": 123,
   "id": "7a9ee2a7",
   "metadata": {},
   "outputs": [
    {
     "data": {
      "text/html": [
       "<div>\n",
       "<style scoped>\n",
       "    .dataframe tbody tr th:only-of-type {\n",
       "        vertical-align: middle;\n",
       "    }\n",
       "\n",
       "    .dataframe tbody tr th {\n",
       "        vertical-align: top;\n",
       "    }\n",
       "\n",
       "    .dataframe thead th {\n",
       "        text-align: right;\n",
       "    }\n",
       "</style>\n",
       "<table border=\"1\" class=\"dataframe\">\n",
       "  <thead>\n",
       "    <tr style=\"text-align: right;\">\n",
       "      <th></th>\n",
       "      <th>db_id</th>\n",
       "      <th>kalem</th>\n",
       "      <th>mağaza</th>\n",
       "      <th>tarih</th>\n",
       "      <th>satış adedi</th>\n",
       "      <th>satış tutarı</th>\n",
       "      <th>profit</th>\n",
       "    </tr>\n",
       "  </thead>\n",
       "  <tbody>\n",
       "    <tr>\n",
       "      <th>0</th>\n",
       "      <td>79444</td>\n",
       "      <td>50012011250</td>\n",
       "      <td>312</td>\n",
       "      <td>2019-08-03</td>\n",
       "      <td>3</td>\n",
       "      <td>29.97</td>\n",
       "      <td>2.49</td>\n",
       "    </tr>\n",
       "    <tr>\n",
       "      <th>1</th>\n",
       "      <td>79445</td>\n",
       "      <td>50012011250</td>\n",
       "      <td>312</td>\n",
       "      <td>2019-08-04</td>\n",
       "      <td>2</td>\n",
       "      <td>19.98</td>\n",
       "      <td>2.49</td>\n",
       "    </tr>\n",
       "    <tr>\n",
       "      <th>2</th>\n",
       "      <td>79446</td>\n",
       "      <td>50012011250</td>\n",
       "      <td>312</td>\n",
       "      <td>2019-08-05</td>\n",
       "      <td>5</td>\n",
       "      <td>49.95</td>\n",
       "      <td>2.49</td>\n",
       "    </tr>\n",
       "    <tr>\n",
       "      <th>3</th>\n",
       "      <td>79447</td>\n",
       "      <td>50012011250</td>\n",
       "      <td>312</td>\n",
       "      <td>2019-08-06</td>\n",
       "      <td>3</td>\n",
       "      <td>29.97</td>\n",
       "      <td>2.49</td>\n",
       "    </tr>\n",
       "    <tr>\n",
       "      <th>4</th>\n",
       "      <td>79448</td>\n",
       "      <td>50012011250</td>\n",
       "      <td>312</td>\n",
       "      <td>2019-08-07</td>\n",
       "      <td>7</td>\n",
       "      <td>69.93</td>\n",
       "      <td>2.49</td>\n",
       "    </tr>\n",
       "    <tr>\n",
       "      <th>...</th>\n",
       "      <td>...</td>\n",
       "      <td>...</td>\n",
       "      <td>...</td>\n",
       "      <td>...</td>\n",
       "      <td>...</td>\n",
       "      <td>...</td>\n",
       "      <td>...</td>\n",
       "    </tr>\n",
       "    <tr>\n",
       "      <th>19273</th>\n",
       "      <td>82140</td>\n",
       "      <td>50012011250</td>\n",
       "      <td>632</td>\n",
       "      <td>2017-05-09</td>\n",
       "      <td>2</td>\n",
       "      <td>19.98</td>\n",
       "      <td>2.49</td>\n",
       "    </tr>\n",
       "    <tr>\n",
       "      <th>19274</th>\n",
       "      <td>82174</td>\n",
       "      <td>50012011250</td>\n",
       "      <td>632</td>\n",
       "      <td>2017-06-19</td>\n",
       "      <td>-A45%0 4</td>\n",
       "      <td>NaN</td>\n",
       "      <td>2.49</td>\n",
       "    </tr>\n",
       "    <tr>\n",
       "      <th>19275</th>\n",
       "      <td>82341</td>\n",
       "      <td>50012011250</td>\n",
       "      <td>632</td>\n",
       "      <td>2018-01-09</td>\n",
       "      <td>-A45%0 2</td>\n",
       "      <td>NaN</td>\n",
       "      <td>2.49</td>\n",
       "    </tr>\n",
       "    <tr>\n",
       "      <th>19276</th>\n",
       "      <td>82480</td>\n",
       "      <td>50012011250</td>\n",
       "      <td>632</td>\n",
       "      <td>2018-06-21</td>\n",
       "      <td>2</td>\n",
       "      <td>19.98</td>\n",
       "      <td>2.49</td>\n",
       "    </tr>\n",
       "    <tr>\n",
       "      <th>19277</th>\n",
       "      <td>82514</td>\n",
       "      <td>50012011250</td>\n",
       "      <td>632</td>\n",
       "      <td>2018-08-01</td>\n",
       "      <td>2</td>\n",
       "      <td>19.98</td>\n",
       "      <td>2.49</td>\n",
       "    </tr>\n",
       "  </tbody>\n",
       "</table>\n",
       "<p>17499 rows × 7 columns</p>\n",
       "</div>"
      ],
      "text/plain": [
       "       db_id        kalem  mağaza      tarih satış adedi  satış tutarı  profit\n",
       "0      79444  50012011250     312 2019-08-03           3         29.97    2.49\n",
       "1      79445  50012011250     312 2019-08-04           2         19.98    2.49\n",
       "2      79446  50012011250     312 2019-08-05           5         49.95    2.49\n",
       "3      79447  50012011250     312 2019-08-06           3         29.97    2.49\n",
       "4      79448  50012011250     312 2019-08-07           7         69.93    2.49\n",
       "...      ...          ...     ...        ...         ...           ...     ...\n",
       "19273  82140  50012011250     632 2017-05-09           2         19.98    2.49\n",
       "19274  82174  50012011250     632 2017-06-19    -A45%0 4           NaN    2.49\n",
       "19275  82341  50012011250     632 2018-01-09    -A45%0 2           NaN    2.49\n",
       "19276  82480  50012011250     632 2018-06-21           2         19.98    2.49\n",
       "19277  82514  50012011250     632 2018-08-01           2         19.98    2.49\n",
       "\n",
       "[17499 rows x 7 columns]"
      ]
     },
     "execution_count": 123,
     "metadata": {},
     "output_type": "execute_result"
    }
   ],
   "source": [
    "data = data.dropna(subset=['profit'])\n",
    "data"
   ]
  },
  {
   "cell_type": "code",
   "execution_count": 163,
   "id": "939d46a2",
   "metadata": {},
   "outputs": [
    {
     "name": "stdout",
     "output_type": "stream",
     "text": [
      "Index([], dtype='object')\n"
     ]
    }
   ],
   "source": [
    "print(data.columns[data.isnull().any()])"
   ]
  },
  {
   "cell_type": "code",
   "execution_count": 126,
   "id": "9214a96a",
   "metadata": {},
   "outputs": [
    {
     "data": {
      "text/html": [
       "<div>\n",
       "<style scoped>\n",
       "    .dataframe tbody tr th:only-of-type {\n",
       "        vertical-align: middle;\n",
       "    }\n",
       "\n",
       "    .dataframe tbody tr th {\n",
       "        vertical-align: top;\n",
       "    }\n",
       "\n",
       "    .dataframe thead th {\n",
       "        text-align: right;\n",
       "    }\n",
       "</style>\n",
       "<table border=\"1\" class=\"dataframe\">\n",
       "  <thead>\n",
       "    <tr style=\"text-align: right;\">\n",
       "      <th></th>\n",
       "      <th>count</th>\n",
       "      <th>mean</th>\n",
       "      <th>std</th>\n",
       "      <th>min</th>\n",
       "      <th>25%</th>\n",
       "      <th>50%</th>\n",
       "      <th>75%</th>\n",
       "      <th>max</th>\n",
       "    </tr>\n",
       "  </thead>\n",
       "  <tbody>\n",
       "    <tr>\n",
       "      <th>db_id</th>\n",
       "      <td>17499.0</td>\n",
       "      <td>2.019363e+05</td>\n",
       "      <td>4.018621e+05</td>\n",
       "      <td>3.456100e+04</td>\n",
       "      <td>8.042850e+04</td>\n",
       "      <td>8.935600e+04</td>\n",
       "      <td>9.306650e+04</td>\n",
       "      <td>2.001795e+06</td>\n",
       "    </tr>\n",
       "    <tr>\n",
       "      <th>kalem</th>\n",
       "      <td>17499.0</td>\n",
       "      <td>2.384304e+10</td>\n",
       "      <td>2.045015e+10</td>\n",
       "      <td>7.312456e+09</td>\n",
       "      <td>8.000451e+09</td>\n",
       "      <td>8.000520e+09</td>\n",
       "      <td>5.001201e+10</td>\n",
       "      <td>5.001300e+10</td>\n",
       "    </tr>\n",
       "    <tr>\n",
       "      <th>mağaza</th>\n",
       "      <td>17499.0</td>\n",
       "      <td>4.553250e+02</td>\n",
       "      <td>1.277649e+02</td>\n",
       "      <td>3.120000e+02</td>\n",
       "      <td>3.230000e+02</td>\n",
       "      <td>4.150000e+02</td>\n",
       "      <td>6.320000e+02</td>\n",
       "      <td>6.320000e+02</td>\n",
       "    </tr>\n",
       "    <tr>\n",
       "      <th>satış tutarı</th>\n",
       "      <td>17211.0</td>\n",
       "      <td>7.392369e+02</td>\n",
       "      <td>1.714830e+04</td>\n",
       "      <td>-8.991000e+01</td>\n",
       "      <td>2.299000e+01</td>\n",
       "      <td>4.598000e+01</td>\n",
       "      <td>9.990000e+01</td>\n",
       "      <td>8.991000e+05</td>\n",
       "    </tr>\n",
       "    <tr>\n",
       "      <th>profit</th>\n",
       "      <td>17499.0</td>\n",
       "      <td>3.797160e+00</td>\n",
       "      <td>2.033467e+00</td>\n",
       "      <td>-1.010000e+00</td>\n",
       "      <td>2.490000e+00</td>\n",
       "      <td>3.990000e+00</td>\n",
       "      <td>5.490000e+00</td>\n",
       "      <td>8.490000e+00</td>\n",
       "    </tr>\n",
       "  </tbody>\n",
       "</table>\n",
       "</div>"
      ],
      "text/plain": [
       "                count          mean           std           min           25%  \\\n",
       "db_id         17499.0  2.019363e+05  4.018621e+05  3.456100e+04  8.042850e+04   \n",
       "kalem         17499.0  2.384304e+10  2.045015e+10  7.312456e+09  8.000451e+09   \n",
       "mağaza        17499.0  4.553250e+02  1.277649e+02  3.120000e+02  3.230000e+02   \n",
       "satış tutarı  17211.0  7.392369e+02  1.714830e+04 -8.991000e+01  2.299000e+01   \n",
       "profit        17499.0  3.797160e+00  2.033467e+00 -1.010000e+00  2.490000e+00   \n",
       "\n",
       "                       50%           75%           max  \n",
       "db_id         8.935600e+04  9.306650e+04  2.001795e+06  \n",
       "kalem         8.000520e+09  5.001201e+10  5.001300e+10  \n",
       "mağaza        4.150000e+02  6.320000e+02  6.320000e+02  \n",
       "satış tutarı  4.598000e+01  9.990000e+01  8.991000e+05  \n",
       "profit        3.990000e+00  5.490000e+00  8.490000e+00  "
      ]
     },
     "execution_count": 126,
     "metadata": {},
     "output_type": "execute_result"
    }
   ],
   "source": [
    "data.describe().T"
   ]
  },
  {
   "cell_type": "markdown",
   "id": "c8348283",
   "metadata": {},
   "source": [
    "### tarihi artan bir biçimde yapalım bakalım bi zaman serisi analizi olur mu"
   ]
  },
  {
   "cell_type": "code",
   "execution_count": 127,
   "id": "1b0b60f6",
   "metadata": {},
   "outputs": [],
   "source": [
    "data['tarih'] = pd.to_datetime(data['tarih'], format='%Y-%m-%d')\n",
    "data = data.sort_values(by='tarih', ascending=True)"
   ]
  },
  {
   "cell_type": "code",
   "execution_count": 128,
   "id": "8a42d246",
   "metadata": {},
   "outputs": [
    {
     "data": {
      "text/html": [
       "<div>\n",
       "<style scoped>\n",
       "    .dataframe tbody tr th:only-of-type {\n",
       "        vertical-align: middle;\n",
       "    }\n",
       "\n",
       "    .dataframe tbody tr th {\n",
       "        vertical-align: top;\n",
       "    }\n",
       "\n",
       "    .dataframe thead th {\n",
       "        text-align: right;\n",
       "    }\n",
       "</style>\n",
       "<table border=\"1\" class=\"dataframe\">\n",
       "  <thead>\n",
       "    <tr style=\"text-align: right;\">\n",
       "      <th></th>\n",
       "      <th>db_id</th>\n",
       "      <th>kalem</th>\n",
       "      <th>mağaza</th>\n",
       "      <th>tarih</th>\n",
       "      <th>satış adedi</th>\n",
       "      <th>satış tutarı</th>\n",
       "      <th>profit</th>\n",
       "    </tr>\n",
       "  </thead>\n",
       "  <tbody>\n",
       "    <tr>\n",
       "      <th>9093</th>\n",
       "      <td>1145701</td>\n",
       "      <td>50012011240</td>\n",
       "      <td>415</td>\n",
       "      <td>2016-07-30</td>\n",
       "      <td>2</td>\n",
       "      <td>15.98</td>\n",
       "      <td>5.49</td>\n",
       "    </tr>\n",
       "    <tr>\n",
       "      <th>17605</th>\n",
       "      <td>78921</td>\n",
       "      <td>50012011240</td>\n",
       "      <td>632</td>\n",
       "      <td>2016-07-30</td>\n",
       "      <td>3</td>\n",
       "      <td>23.97</td>\n",
       "      <td>5.49</td>\n",
       "    </tr>\n",
       "    <tr>\n",
       "      <th>12634</th>\n",
       "      <td>34561</td>\n",
       "      <td>50012011240</td>\n",
       "      <td>521</td>\n",
       "      <td>2016-07-30</td>\n",
       "      <td>1</td>\n",
       "      <td>7.99</td>\n",
       "      <td>5.49</td>\n",
       "    </tr>\n",
       "    <tr>\n",
       "      <th>9618</th>\n",
       "      <td>80677</td>\n",
       "      <td>50012011250</td>\n",
       "      <td>415</td>\n",
       "      <td>2016-07-30</td>\n",
       "      <td>3</td>\n",
       "      <td>299.97</td>\n",
       "      <td>2.49</td>\n",
       "    </tr>\n",
       "    <tr>\n",
       "      <th>13171</th>\n",
       "      <td>81294</td>\n",
       "      <td>50012011250</td>\n",
       "      <td>521</td>\n",
       "      <td>2016-07-30</td>\n",
       "      <td>6</td>\n",
       "      <td>59.94</td>\n",
       "      <td>2.49</td>\n",
       "    </tr>\n",
       "    <tr>\n",
       "      <th>...</th>\n",
       "      <td>...</td>\n",
       "      <td>...</td>\n",
       "      <td>...</td>\n",
       "      <td>...</td>\n",
       "      <td>...</td>\n",
       "      <td>...</td>\n",
       "      <td>...</td>\n",
       "    </tr>\n",
       "    <tr>\n",
       "      <th>1704</th>\n",
       "      <td>90156</td>\n",
       "      <td>8000451112</td>\n",
       "      <td>312</td>\n",
       "      <td>2021-08-18</td>\n",
       "      <td>38</td>\n",
       "      <td>493.62</td>\n",
       "      <td>3.99</td>\n",
       "    </tr>\n",
       "    <tr>\n",
       "      <th>1703</th>\n",
       "      <td>90155</td>\n",
       "      <td>8000451112</td>\n",
       "      <td>312</td>\n",
       "      <td>2021-08-18</td>\n",
       "      <td>35</td>\n",
       "      <td>454.65</td>\n",
       "      <td>3.99</td>\n",
       "    </tr>\n",
       "    <tr>\n",
       "      <th>3154</th>\n",
       "      <td>1001036</td>\n",
       "      <td>8000520021</td>\n",
       "      <td>312</td>\n",
       "      <td>2021-08-19</td>\n",
       "      <td>10</td>\n",
       "      <td>99.90</td>\n",
       "      <td>2.49</td>\n",
       "    </tr>\n",
       "    <tr>\n",
       "      <th>1705</th>\n",
       "      <td>90157</td>\n",
       "      <td>8000451112</td>\n",
       "      <td>312</td>\n",
       "      <td>2021-08-19</td>\n",
       "      <td>40</td>\n",
       "      <td>519.60</td>\n",
       "      <td>3.99</td>\n",
       "    </tr>\n",
       "    <tr>\n",
       "      <th>1706</th>\n",
       "      <td>90158</td>\n",
       "      <td>8000451112</td>\n",
       "      <td>312</td>\n",
       "      <td>2021-08-19</td>\n",
       "      <td>42</td>\n",
       "      <td>545.58</td>\n",
       "      <td>3.99</td>\n",
       "    </tr>\n",
       "  </tbody>\n",
       "</table>\n",
       "<p>17499 rows × 7 columns</p>\n",
       "</div>"
      ],
      "text/plain": [
       "         db_id        kalem  mağaza      tarih satış adedi  satış tutarı  \\\n",
       "9093   1145701  50012011240     415 2016-07-30           2         15.98   \n",
       "17605    78921  50012011240     632 2016-07-30           3         23.97   \n",
       "12634    34561  50012011240     521 2016-07-30           1          7.99   \n",
       "9618     80677  50012011250     415 2016-07-30           3        299.97   \n",
       "13171    81294  50012011250     521 2016-07-30           6         59.94   \n",
       "...        ...          ...     ...        ...         ...           ...   \n",
       "1704     90156   8000451112     312 2021-08-18          38        493.62   \n",
       "1703     90155   8000451112     312 2021-08-18          35        454.65   \n",
       "3154   1001036   8000520021     312 2021-08-19          10         99.90   \n",
       "1705     90157   8000451112     312 2021-08-19          40        519.60   \n",
       "1706     90158   8000451112     312 2021-08-19          42        545.58   \n",
       "\n",
       "       profit  \n",
       "9093     5.49  \n",
       "17605    5.49  \n",
       "12634    5.49  \n",
       "9618     2.49  \n",
       "13171    2.49  \n",
       "...       ...  \n",
       "1704     3.99  \n",
       "1703     3.99  \n",
       "3154     2.49  \n",
       "1705     3.99  \n",
       "1706     3.99  \n",
       "\n",
       "[17499 rows x 7 columns]"
      ]
     },
     "execution_count": 128,
     "metadata": {},
     "output_type": "execute_result"
    }
   ],
   "source": [
    "data"
   ]
  },
  {
   "cell_type": "code",
   "execution_count": 129,
   "id": "f12d3ff1",
   "metadata": {},
   "outputs": [],
   "source": [
    "data['tarih'] = pd.to_datetime(data['tarih'])\n",
    "data['month'] = data['tarih'].dt.month.astype(int)\n",
    "data['day_of_month'] = data['tarih'].dt.day.astype(int)\n",
    "# day_of_week=0 corresponds to Monday\n",
    "data['day_of_week'] = data['tarih'].dt.dayofweek.astype(int)\n",
    "selected_columns = ['tarih','month','day_of_month', 'day_of_week']\n",
    "data[selected_columns]\n",
    "# add date as string column\n",
    "data[\"DATE_STR\"] = data[\"tarih\"].astype(str)"
   ]
  },
  {
   "cell_type": "code",
   "execution_count": 130,
   "id": "951722b5",
   "metadata": {},
   "outputs": [
    {
     "data": {
      "text/plain": [
       "0"
      ]
     },
     "execution_count": 130,
     "metadata": {},
     "output_type": "execute_result"
    }
   ],
   "source": [
    "data['tarih'].isna().sum() #sıkıntı yok olsa fenaydı"
   ]
  },
  {
   "cell_type": "code",
   "execution_count": 131,
   "id": "ee640068",
   "metadata": {},
   "outputs": [
    {
     "data": {
      "text/html": [
       "<div>\n",
       "<style scoped>\n",
       "    .dataframe tbody tr th:only-of-type {\n",
       "        vertical-align: middle;\n",
       "    }\n",
       "\n",
       "    .dataframe tbody tr th {\n",
       "        vertical-align: top;\n",
       "    }\n",
       "\n",
       "    .dataframe thead th {\n",
       "        text-align: right;\n",
       "    }\n",
       "</style>\n",
       "<table border=\"1\" class=\"dataframe\">\n",
       "  <thead>\n",
       "    <tr style=\"text-align: right;\">\n",
       "      <th></th>\n",
       "      <th>db_id</th>\n",
       "      <th>kalem</th>\n",
       "      <th>mağaza</th>\n",
       "      <th>tarih</th>\n",
       "      <th>satış adedi</th>\n",
       "      <th>satış tutarı</th>\n",
       "      <th>profit</th>\n",
       "      <th>month</th>\n",
       "      <th>day_of_month</th>\n",
       "      <th>day_of_week</th>\n",
       "      <th>DATE_STR</th>\n",
       "    </tr>\n",
       "  </thead>\n",
       "  <tbody>\n",
       "    <tr>\n",
       "      <th>9093</th>\n",
       "      <td>1145701</td>\n",
       "      <td>50012011240</td>\n",
       "      <td>415</td>\n",
       "      <td>2016-07-30</td>\n",
       "      <td>2</td>\n",
       "      <td>15.98</td>\n",
       "      <td>5.49</td>\n",
       "      <td>7</td>\n",
       "      <td>30</td>\n",
       "      <td>5</td>\n",
       "      <td>2016-07-30</td>\n",
       "    </tr>\n",
       "    <tr>\n",
       "      <th>17605</th>\n",
       "      <td>78921</td>\n",
       "      <td>50012011240</td>\n",
       "      <td>632</td>\n",
       "      <td>2016-07-30</td>\n",
       "      <td>3</td>\n",
       "      <td>23.97</td>\n",
       "      <td>5.49</td>\n",
       "      <td>7</td>\n",
       "      <td>30</td>\n",
       "      <td>5</td>\n",
       "      <td>2016-07-30</td>\n",
       "    </tr>\n",
       "    <tr>\n",
       "      <th>12634</th>\n",
       "      <td>34561</td>\n",
       "      <td>50012011240</td>\n",
       "      <td>521</td>\n",
       "      <td>2016-07-30</td>\n",
       "      <td>1</td>\n",
       "      <td>7.99</td>\n",
       "      <td>5.49</td>\n",
       "      <td>7</td>\n",
       "      <td>30</td>\n",
       "      <td>5</td>\n",
       "      <td>2016-07-30</td>\n",
       "    </tr>\n",
       "    <tr>\n",
       "      <th>9618</th>\n",
       "      <td>80677</td>\n",
       "      <td>50012011250</td>\n",
       "      <td>415</td>\n",
       "      <td>2016-07-30</td>\n",
       "      <td>3</td>\n",
       "      <td>299.97</td>\n",
       "      <td>2.49</td>\n",
       "      <td>7</td>\n",
       "      <td>30</td>\n",
       "      <td>5</td>\n",
       "      <td>2016-07-30</td>\n",
       "    </tr>\n",
       "    <tr>\n",
       "      <th>13171</th>\n",
       "      <td>81294</td>\n",
       "      <td>50012011250</td>\n",
       "      <td>521</td>\n",
       "      <td>2016-07-30</td>\n",
       "      <td>6</td>\n",
       "      <td>59.94</td>\n",
       "      <td>2.49</td>\n",
       "      <td>7</td>\n",
       "      <td>30</td>\n",
       "      <td>5</td>\n",
       "      <td>2016-07-30</td>\n",
       "    </tr>\n",
       "    <tr>\n",
       "      <th>...</th>\n",
       "      <td>...</td>\n",
       "      <td>...</td>\n",
       "      <td>...</td>\n",
       "      <td>...</td>\n",
       "      <td>...</td>\n",
       "      <td>...</td>\n",
       "      <td>...</td>\n",
       "      <td>...</td>\n",
       "      <td>...</td>\n",
       "      <td>...</td>\n",
       "      <td>...</td>\n",
       "    </tr>\n",
       "    <tr>\n",
       "      <th>1704</th>\n",
       "      <td>90156</td>\n",
       "      <td>8000451112</td>\n",
       "      <td>312</td>\n",
       "      <td>2021-08-18</td>\n",
       "      <td>38</td>\n",
       "      <td>493.62</td>\n",
       "      <td>3.99</td>\n",
       "      <td>8</td>\n",
       "      <td>18</td>\n",
       "      <td>2</td>\n",
       "      <td>2021-08-18</td>\n",
       "    </tr>\n",
       "    <tr>\n",
       "      <th>1703</th>\n",
       "      <td>90155</td>\n",
       "      <td>8000451112</td>\n",
       "      <td>312</td>\n",
       "      <td>2021-08-18</td>\n",
       "      <td>35</td>\n",
       "      <td>454.65</td>\n",
       "      <td>3.99</td>\n",
       "      <td>8</td>\n",
       "      <td>18</td>\n",
       "      <td>2</td>\n",
       "      <td>2021-08-18</td>\n",
       "    </tr>\n",
       "    <tr>\n",
       "      <th>3154</th>\n",
       "      <td>1001036</td>\n",
       "      <td>8000520021</td>\n",
       "      <td>312</td>\n",
       "      <td>2021-08-19</td>\n",
       "      <td>10</td>\n",
       "      <td>99.90</td>\n",
       "      <td>2.49</td>\n",
       "      <td>8</td>\n",
       "      <td>19</td>\n",
       "      <td>3</td>\n",
       "      <td>2021-08-19</td>\n",
       "    </tr>\n",
       "    <tr>\n",
       "      <th>1705</th>\n",
       "      <td>90157</td>\n",
       "      <td>8000451112</td>\n",
       "      <td>312</td>\n",
       "      <td>2021-08-19</td>\n",
       "      <td>40</td>\n",
       "      <td>519.60</td>\n",
       "      <td>3.99</td>\n",
       "      <td>8</td>\n",
       "      <td>19</td>\n",
       "      <td>3</td>\n",
       "      <td>2021-08-19</td>\n",
       "    </tr>\n",
       "    <tr>\n",
       "      <th>1706</th>\n",
       "      <td>90158</td>\n",
       "      <td>8000451112</td>\n",
       "      <td>312</td>\n",
       "      <td>2021-08-19</td>\n",
       "      <td>42</td>\n",
       "      <td>545.58</td>\n",
       "      <td>3.99</td>\n",
       "      <td>8</td>\n",
       "      <td>19</td>\n",
       "      <td>3</td>\n",
       "      <td>2021-08-19</td>\n",
       "    </tr>\n",
       "  </tbody>\n",
       "</table>\n",
       "<p>17499 rows × 11 columns</p>\n",
       "</div>"
      ],
      "text/plain": [
       "         db_id        kalem  mağaza      tarih satış adedi  satış tutarı  \\\n",
       "9093   1145701  50012011240     415 2016-07-30           2         15.98   \n",
       "17605    78921  50012011240     632 2016-07-30           3         23.97   \n",
       "12634    34561  50012011240     521 2016-07-30           1          7.99   \n",
       "9618     80677  50012011250     415 2016-07-30           3        299.97   \n",
       "13171    81294  50012011250     521 2016-07-30           6         59.94   \n",
       "...        ...          ...     ...        ...         ...           ...   \n",
       "1704     90156   8000451112     312 2021-08-18          38        493.62   \n",
       "1703     90155   8000451112     312 2021-08-18          35        454.65   \n",
       "3154   1001036   8000520021     312 2021-08-19          10         99.90   \n",
       "1705     90157   8000451112     312 2021-08-19          40        519.60   \n",
       "1706     90158   8000451112     312 2021-08-19          42        545.58   \n",
       "\n",
       "       profit  month  day_of_month  day_of_week    DATE_STR  \n",
       "9093     5.49      7            30            5  2016-07-30  \n",
       "17605    5.49      7            30            5  2016-07-30  \n",
       "12634    5.49      7            30            5  2016-07-30  \n",
       "9618     2.49      7            30            5  2016-07-30  \n",
       "13171    2.49      7            30            5  2016-07-30  \n",
       "...       ...    ...           ...          ...         ...  \n",
       "1704     3.99      8            18            2  2021-08-18  \n",
       "1703     3.99      8            18            2  2021-08-18  \n",
       "3154     2.49      8            19            3  2021-08-19  \n",
       "1705     3.99      8            19            3  2021-08-19  \n",
       "1706     3.99      8            19            3  2021-08-19  \n",
       "\n",
       "[17499 rows x 11 columns]"
      ]
     },
     "execution_count": 131,
     "metadata": {},
     "output_type": "execute_result"
    }
   ],
   "source": [
    "data"
   ]
  },
  {
   "cell_type": "code",
   "execution_count": 132,
   "id": "be3225ed",
   "metadata": {},
   "outputs": [
    {
     "name": "stdout",
     "output_type": "stream",
     "text": [
      "<class 'pandas.core.frame.DataFrame'>\n",
      "Int64Index: 17499 entries, 9093 to 1706\n",
      "Data columns (total 11 columns):\n",
      " #   Column        Non-Null Count  Dtype         \n",
      "---  ------        --------------  -----         \n",
      " 0   db_id         17499 non-null  int64         \n",
      " 1   kalem         17499 non-null  int64         \n",
      " 2   mağaza        17499 non-null  int64         \n",
      " 3   tarih         17499 non-null  datetime64[ns]\n",
      " 4   satış adedi   17294 non-null  object        \n",
      " 5   satış tutarı  17211 non-null  float64       \n",
      " 6   profit        17499 non-null  float64       \n",
      " 7   month         17499 non-null  int32         \n",
      " 8   day_of_month  17499 non-null  int32         \n",
      " 9   day_of_week   17499 non-null  int32         \n",
      " 10  DATE_STR      17499 non-null  object        \n",
      "dtypes: datetime64[ns](1), float64(2), int32(3), int64(3), object(2)\n",
      "memory usage: 1.4+ MB\n"
     ]
    }
   ],
   "source": [
    "data.info()"
   ]
  },
  {
   "cell_type": "code",
   "execution_count": 137,
   "id": "0df3e00b",
   "metadata": {},
   "outputs": [
    {
     "data": {
      "text/plain": [
       "satış adedi\n",
       "1              3158\n",
       "2              3061\n",
       "3              2517\n",
       "4              1961\n",
       "5              1391\n",
       "               ... \n",
       "83                1\n",
       "82                1\n",
       "80                1\n",
       "79                1\n",
       "-A45%0 9          1\n",
       "Length: 117, dtype: int64"
      ]
     },
     "execution_count": 137,
     "metadata": {},
     "output_type": "execute_result"
    }
   ],
   "source": [
    "data[['satış adedi']].value_counts()"
   ]
  },
  {
   "cell_type": "code",
   "execution_count": 133,
   "id": "ebd5d4fd",
   "metadata": {},
   "outputs": [
    {
     "name": "stdout",
     "output_type": "stream",
     "text": [
      "['db_id', 'kalem', 'mağaza', 'tarih', 'satış adedi', 'satış tutarı', 'profit', 'month', 'day_of_month', 'day_of_week', 'DATE_STR']\n"
     ]
    }
   ],
   "source": [
    "print(data.columns.tolist())"
   ]
  },
  {
   "cell_type": "markdown",
   "id": "6b4a3334",
   "metadata": {},
   "source": [
    "### korelasyon matrisi bakalım"
   ]
  },
  {
   "cell_type": "code",
   "execution_count": 135,
   "id": "34b2ec7f",
   "metadata": {},
   "outputs": [
    {
     "data": {
      "image/png": "[encoded data removed]",
      "text/plain": [
       "<Figure size 1800x1080 with 2 Axes>"
      ]
     },
     "metadata": {
      "needs_background": "light"
     },
     "output_type": "display_data"
    }
   ],
   "source": [
    "cols_corr = ['kalem', 'mağaza', 'tarih', 'satış adedi', 'satış tutarı', 'month', 'day_of_month', 'day_of_week', 'profit']\n",
    "corrMatrix = data[cols_corr].corr()\n",
    "plt.figure(figsize=(25,15))\n",
    "fig_corr = sns.heatmap(corrMatrix, annot=True)\n",
    "plt.show()"
   ]
  },
  {
   "cell_type": "markdown",
   "id": "c5c3451a",
   "metadata": {},
   "source": [
    "### yüksek korelasyon durumu yok, şu an için çıkartılması gereken herhangi bir feature da yok gibi duruyor gerekirse geri döner çıkartırız\n",
    "\n",
    "### satış adedi ve satış tutarı için rolling mean metoduyla verileri dolduralım. zaman serisi analizine uygun bir tarihlendirme de yaptığımıza göre bu durum teorik açıdan geçmiş verilerine bakarak gerçekleştirilebilir duruyor. bu noktada dikkat etmemiz gereken detay, her bir id'si farklı kalemin kendi profit geçmişine göre odaklanmış bir biçimde ağırlıklı ortalamasının alınması daha doğru bir yaklaşım olur."
   ]
  },
  {
   "cell_type": "code",
   "execution_count": 141,
   "id": "874751a3",
   "metadata": {},
   "outputs": [
    {
     "data": {
      "text/plain": [
       "satış adedi\n",
       "1.0            3158\n",
       "2.0            3061\n",
       "3.0            2517\n",
       "4.0            1961\n",
       "5.0            1391\n",
       "               ... \n",
       "83.0              1\n",
       "82.0              1\n",
       "80.0              1\n",
       "79.0              1\n",
       "90000.0           1\n",
       "Length: 93, dtype: int64"
      ]
     },
     "execution_count": 141,
     "metadata": {},
     "output_type": "execute_result"
    }
   ],
   "source": [
    "#data['satış adedi'] = pd.to_numeric(data['satış adedi'], errors='coerce')\n",
    "data = data[data['satış adedi'].apply(lambda x: str(x).replace('.', '').isdigit())]\n",
    "data[['satış adedi']].value_counts()"
   ]
  },
  {
   "cell_type": "code",
   "execution_count": 142,
   "id": "43c7fe75",
   "metadata": {
    "scrolled": false
   },
   "outputs": [],
   "source": [
    "data['satış adedi'] = data.groupby('kalem')['satış adedi'].apply(lambda x: x.fillna(x.rolling(window=3000, min_periods=1).mean()))"
   ]
  },
  {
   "cell_type": "code",
   "execution_count": 162,
   "id": "7b6833e6",
   "metadata": {},
   "outputs": [
    {
     "name": "stdout",
     "output_type": "stream",
     "text": [
      "<class 'pandas.core.frame.DataFrame'>\n",
      "Int64Index: 17134 entries, 9093 to 1706\n",
      "Data columns (total 11 columns):\n",
      " #   Column        Non-Null Count  Dtype         \n",
      "---  ------        --------------  -----         \n",
      " 0   db_id         17134 non-null  int64         \n",
      " 1   kalem         17134 non-null  int64         \n",
      " 2   mağaza        17134 non-null  int64         \n",
      " 3   tarih         17134 non-null  datetime64[ns]\n",
      " 4   satış adedi   17134 non-null  float64       \n",
      " 5   satış tutarı  17134 non-null  float64       \n",
      " 6   profit        17134 non-null  float64       \n",
      " 7   month         17134 non-null  int32         \n",
      " 8   day_of_month  17134 non-null  int32         \n",
      " 9   day_of_week   17134 non-null  int32         \n",
      " 10  DATE_STR      17134 non-null  object        \n",
      "dtypes: datetime64[ns](1), float64(3), int32(3), int64(3), object(1)\n",
      "memory usage: 1.4+ MB\n"
     ]
    }
   ],
   "source": [
    "data.info()"
   ]
  },
  {
   "cell_type": "code",
   "execution_count": 144,
   "id": "29655e63",
   "metadata": {},
   "outputs": [
    {
     "data": {
      "text/html": [
       "<div>\n",
       "<style scoped>\n",
       "    .dataframe tbody tr th:only-of-type {\n",
       "        vertical-align: middle;\n",
       "    }\n",
       "\n",
       "    .dataframe tbody tr th {\n",
       "        vertical-align: top;\n",
       "    }\n",
       "\n",
       "    .dataframe thead th {\n",
       "        text-align: right;\n",
       "    }\n",
       "</style>\n",
       "<table border=\"1\" class=\"dataframe\">\n",
       "  <thead>\n",
       "    <tr style=\"text-align: right;\">\n",
       "      <th></th>\n",
       "      <th>satış adedi</th>\n",
       "    </tr>\n",
       "  </thead>\n",
       "  <tbody>\n",
       "    <tr>\n",
       "      <th>9093</th>\n",
       "      <td>2.0</td>\n",
       "    </tr>\n",
       "    <tr>\n",
       "      <th>17605</th>\n",
       "      <td>3.0</td>\n",
       "    </tr>\n",
       "    <tr>\n",
       "      <th>12634</th>\n",
       "      <td>1.0</td>\n",
       "    </tr>\n",
       "    <tr>\n",
       "      <th>9618</th>\n",
       "      <td>3.0</td>\n",
       "    </tr>\n",
       "    <tr>\n",
       "      <th>13171</th>\n",
       "      <td>6.0</td>\n",
       "    </tr>\n",
       "    <tr>\n",
       "      <th>...</th>\n",
       "      <td>...</td>\n",
       "    </tr>\n",
       "    <tr>\n",
       "      <th>1704</th>\n",
       "      <td>38.0</td>\n",
       "    </tr>\n",
       "    <tr>\n",
       "      <th>1703</th>\n",
       "      <td>35.0</td>\n",
       "    </tr>\n",
       "    <tr>\n",
       "      <th>3154</th>\n",
       "      <td>10.0</td>\n",
       "    </tr>\n",
       "    <tr>\n",
       "      <th>1705</th>\n",
       "      <td>40.0</td>\n",
       "    </tr>\n",
       "    <tr>\n",
       "      <th>1706</th>\n",
       "      <td>42.0</td>\n",
       "    </tr>\n",
       "  </tbody>\n",
       "</table>\n",
       "<p>17134 rows × 1 columns</p>\n",
       "</div>"
      ],
      "text/plain": [
       "       satış adedi\n",
       "9093           2.0\n",
       "17605          3.0\n",
       "12634          1.0\n",
       "9618           3.0\n",
       "13171          6.0\n",
       "...            ...\n",
       "1704          38.0\n",
       "1703          35.0\n",
       "3154          10.0\n",
       "1705          40.0\n",
       "1706          42.0\n",
       "\n",
       "[17134 rows x 1 columns]"
      ]
     },
     "execution_count": 144,
     "metadata": {},
     "output_type": "execute_result"
    }
   ],
   "source": [
    "data[['satış adedi']]"
   ]
  },
  {
   "cell_type": "code",
   "execution_count": 145,
   "id": "3147450b",
   "metadata": {},
   "outputs": [
    {
     "data": {
      "text/html": [
       "<div>\n",
       "<style scoped>\n",
       "    .dataframe tbody tr th:only-of-type {\n",
       "        vertical-align: middle;\n",
       "    }\n",
       "\n",
       "    .dataframe tbody tr th {\n",
       "        vertical-align: top;\n",
       "    }\n",
       "\n",
       "    .dataframe thead th {\n",
       "        text-align: right;\n",
       "    }\n",
       "</style>\n",
       "<table border=\"1\" class=\"dataframe\">\n",
       "  <thead>\n",
       "    <tr style=\"text-align: right;\">\n",
       "      <th></th>\n",
       "      <th>db_id</th>\n",
       "      <th>kalem</th>\n",
       "      <th>mağaza</th>\n",
       "      <th>tarih</th>\n",
       "      <th>satış adedi</th>\n",
       "      <th>satış tutarı</th>\n",
       "      <th>profit</th>\n",
       "      <th>month</th>\n",
       "      <th>day_of_month</th>\n",
       "      <th>day_of_week</th>\n",
       "      <th>DATE_STR</th>\n",
       "    </tr>\n",
       "  </thead>\n",
       "  <tbody>\n",
       "    <tr>\n",
       "      <th>9093</th>\n",
       "      <td>1145701</td>\n",
       "      <td>50012011240</td>\n",
       "      <td>415</td>\n",
       "      <td>2016-07-30</td>\n",
       "      <td>2.0</td>\n",
       "      <td>15.98</td>\n",
       "      <td>5.49</td>\n",
       "      <td>7</td>\n",
       "      <td>30</td>\n",
       "      <td>5</td>\n",
       "      <td>2016-07-30</td>\n",
       "    </tr>\n",
       "    <tr>\n",
       "      <th>17605</th>\n",
       "      <td>78921</td>\n",
       "      <td>50012011240</td>\n",
       "      <td>632</td>\n",
       "      <td>2016-07-30</td>\n",
       "      <td>3.0</td>\n",
       "      <td>23.97</td>\n",
       "      <td>5.49</td>\n",
       "      <td>7</td>\n",
       "      <td>30</td>\n",
       "      <td>5</td>\n",
       "      <td>2016-07-30</td>\n",
       "    </tr>\n",
       "    <tr>\n",
       "      <th>12634</th>\n",
       "      <td>34561</td>\n",
       "      <td>50012011240</td>\n",
       "      <td>521</td>\n",
       "      <td>2016-07-30</td>\n",
       "      <td>1.0</td>\n",
       "      <td>7.99</td>\n",
       "      <td>5.49</td>\n",
       "      <td>7</td>\n",
       "      <td>30</td>\n",
       "      <td>5</td>\n",
       "      <td>2016-07-30</td>\n",
       "    </tr>\n",
       "    <tr>\n",
       "      <th>9618</th>\n",
       "      <td>80677</td>\n",
       "      <td>50012011250</td>\n",
       "      <td>415</td>\n",
       "      <td>2016-07-30</td>\n",
       "      <td>3.0</td>\n",
       "      <td>299.97</td>\n",
       "      <td>2.49</td>\n",
       "      <td>7</td>\n",
       "      <td>30</td>\n",
       "      <td>5</td>\n",
       "      <td>2016-07-30</td>\n",
       "    </tr>\n",
       "    <tr>\n",
       "      <th>13171</th>\n",
       "      <td>81294</td>\n",
       "      <td>50012011250</td>\n",
       "      <td>521</td>\n",
       "      <td>2016-07-30</td>\n",
       "      <td>6.0</td>\n",
       "      <td>59.94</td>\n",
       "      <td>2.49</td>\n",
       "      <td>7</td>\n",
       "      <td>30</td>\n",
       "      <td>5</td>\n",
       "      <td>2016-07-30</td>\n",
       "    </tr>\n",
       "    <tr>\n",
       "      <th>...</th>\n",
       "      <td>...</td>\n",
       "      <td>...</td>\n",
       "      <td>...</td>\n",
       "      <td>...</td>\n",
       "      <td>...</td>\n",
       "      <td>...</td>\n",
       "      <td>...</td>\n",
       "      <td>...</td>\n",
       "      <td>...</td>\n",
       "      <td>...</td>\n",
       "      <td>...</td>\n",
       "    </tr>\n",
       "    <tr>\n",
       "      <th>1704</th>\n",
       "      <td>90156</td>\n",
       "      <td>8000451112</td>\n",
       "      <td>312</td>\n",
       "      <td>2021-08-18</td>\n",
       "      <td>38.0</td>\n",
       "      <td>493.62</td>\n",
       "      <td>3.99</td>\n",
       "      <td>8</td>\n",
       "      <td>18</td>\n",
       "      <td>2</td>\n",
       "      <td>2021-08-18</td>\n",
       "    </tr>\n",
       "    <tr>\n",
       "      <th>1703</th>\n",
       "      <td>90155</td>\n",
       "      <td>8000451112</td>\n",
       "      <td>312</td>\n",
       "      <td>2021-08-18</td>\n",
       "      <td>35.0</td>\n",
       "      <td>454.65</td>\n",
       "      <td>3.99</td>\n",
       "      <td>8</td>\n",
       "      <td>18</td>\n",
       "      <td>2</td>\n",
       "      <td>2021-08-18</td>\n",
       "    </tr>\n",
       "    <tr>\n",
       "      <th>3154</th>\n",
       "      <td>1001036</td>\n",
       "      <td>8000520021</td>\n",
       "      <td>312</td>\n",
       "      <td>2021-08-19</td>\n",
       "      <td>10.0</td>\n",
       "      <td>99.90</td>\n",
       "      <td>2.49</td>\n",
       "      <td>8</td>\n",
       "      <td>19</td>\n",
       "      <td>3</td>\n",
       "      <td>2021-08-19</td>\n",
       "    </tr>\n",
       "    <tr>\n",
       "      <th>1705</th>\n",
       "      <td>90157</td>\n",
       "      <td>8000451112</td>\n",
       "      <td>312</td>\n",
       "      <td>2021-08-19</td>\n",
       "      <td>40.0</td>\n",
       "      <td>519.60</td>\n",
       "      <td>3.99</td>\n",
       "      <td>8</td>\n",
       "      <td>19</td>\n",
       "      <td>3</td>\n",
       "      <td>2021-08-19</td>\n",
       "    </tr>\n",
       "    <tr>\n",
       "      <th>1706</th>\n",
       "      <td>90158</td>\n",
       "      <td>8000451112</td>\n",
       "      <td>312</td>\n",
       "      <td>2021-08-19</td>\n",
       "      <td>42.0</td>\n",
       "      <td>545.58</td>\n",
       "      <td>3.99</td>\n",
       "      <td>8</td>\n",
       "      <td>19</td>\n",
       "      <td>3</td>\n",
       "      <td>2021-08-19</td>\n",
       "    </tr>\n",
       "  </tbody>\n",
       "</table>\n",
       "<p>17134 rows × 11 columns</p>\n",
       "</div>"
      ],
      "text/plain": [
       "         db_id        kalem  mağaza      tarih  satış adedi  satış tutarı  \\\n",
       "9093   1145701  50012011240     415 2016-07-30          2.0         15.98   \n",
       "17605    78921  50012011240     632 2016-07-30          3.0         23.97   \n",
       "12634    34561  50012011240     521 2016-07-30          1.0          7.99   \n",
       "9618     80677  50012011250     415 2016-07-30          3.0        299.97   \n",
       "13171    81294  50012011250     521 2016-07-30          6.0         59.94   \n",
       "...        ...          ...     ...        ...          ...           ...   \n",
       "1704     90156   8000451112     312 2021-08-18         38.0        493.62   \n",
       "1703     90155   8000451112     312 2021-08-18         35.0        454.65   \n",
       "3154   1001036   8000520021     312 2021-08-19         10.0         99.90   \n",
       "1705     90157   8000451112     312 2021-08-19         40.0        519.60   \n",
       "1706     90158   8000451112     312 2021-08-19         42.0        545.58   \n",
       "\n",
       "       profit  month  day_of_month  day_of_week    DATE_STR  \n",
       "9093     5.49      7            30            5  2016-07-30  \n",
       "17605    5.49      7            30            5  2016-07-30  \n",
       "12634    5.49      7            30            5  2016-07-30  \n",
       "9618     2.49      7            30            5  2016-07-30  \n",
       "13171    2.49      7            30            5  2016-07-30  \n",
       "...       ...    ...           ...          ...         ...  \n",
       "1704     3.99      8            18            2  2021-08-18  \n",
       "1703     3.99      8            18            2  2021-08-18  \n",
       "3154     2.49      8            19            3  2021-08-19  \n",
       "1705     3.99      8            19            3  2021-08-19  \n",
       "1706     3.99      8            19            3  2021-08-19  \n",
       "\n",
       "[17134 rows x 11 columns]"
      ]
     },
     "execution_count": 145,
     "metadata": {},
     "output_type": "execute_result"
    }
   ],
   "source": [
    "data"
   ]
  },
  {
   "cell_type": "code",
   "execution_count": 150,
   "id": "baedf273",
   "metadata": {},
   "outputs": [
    {
     "data": {
      "image/png": "[encoded data removed]",
      "text/plain": [
       "<Figure size 720x432 with 1 Axes>"
      ]
     },
     "metadata": {
      "needs_background": "light"
     },
     "output_type": "display_data"
    }
   ],
   "source": [
    "data_sorted = data.sort_values(by='tarih')\n",
    "fig, ax = plt.subplots(figsize=(10, 6))\n",
    "\n",
    "for kalem, group in data_sorted.groupby('kalem'):\n",
    "    ax.plot(group['DATE_STR'], group['profit'], label=kalem)\n",
    "\n",
    "# Eksen etiketleri ve başlık ekleme\n",
    "ax.set_xlabel('Tarih')\n",
    "ax.set_ylabel('Profit')\n",
    "ax.set_title('Zaman Serisi Analizi')\n",
    "ax.legend(title='Kalem Id', bbox_to_anchor=(1.05, 1), loc='upper left')\n",
    "\n",
    "# Tarih etiketlerini daha okunabilir hale getirme\n",
    "plt.xticks(rotation=45)\n",
    "plt.tight_layout()\n",
    "\n",
    "# Grafiği gösterme\n",
    "plt.show()"
   ]
  },
  {
   "cell_type": "code",
   "execution_count": 151,
   "id": "13a5c5d6",
   "metadata": {},
   "outputs": [],
   "source": [
    "resample_df = data.set_index('tarih').resample('1Y').mean()\n",
    "resample_df['tarih'] = resample_df.index\n",
    "resample_df['yearly_profit'] = np.log(resample_df['profit'])\n",
    "\n",
    "datetime_columns = ['tarih', 'month', 'day_of_week', 'day_of_month']\n",
    "target_column = 'profit'\n",
    "\n",
    "feature_columns = datetime_columns + ['profit']\n",
    "\n",
    "# For clarity in visualization and presentation, \n",
    "# only consider the first 150 hours of data.\n",
    "resample_df = resample_df[feature_columns]"
   ]
  },
  {
   "cell_type": "code",
   "execution_count": 161,
   "id": "764c5447",
   "metadata": {},
   "outputs": [
    {
     "data": {
      "application/vnd.plotly.v1+json": {
       "config": {
        "plotlyServerURL": "https://plot.ly"
       },
       "data": [
        {
         "hovertemplate": "weekday=Saturday<br>tarih=%{x}<br>profit=%{y}<extra></extra>",
         "legendgroup": "Saturday",
         "line": {
          "color": "#636efa",
          "dash": "solid"
         },
         "marker": {
          "symbol": "circle"
         },
         "mode": "lines",
         "name": "Saturday",
         "orientation": "v",
         "showlegend": true,
         "type": "scatter",
         "x": [
          "2016-12-31T00:00:00"
         ],
         "xaxis": "x",
         "y": [
          3.7590992018244016
         ],
         "yaxis": "y"
        },
        {
         "hovertemplate": "weekday=Sunday<br>tarih=%{x}<br>profit=%{y}<extra></extra>",
         "legendgroup": "Sunday",
         "line": {
          "color": "#EF553B",
          "dash": "solid"
         },
         "marker": {
          "symbol": "circle"
         },
         "mode": "lines",
         "name": "Sunday",
         "orientation": "v",
         "showlegend": true,
         "type": "scatter",
         "x": [
          "2017-12-31T00:00:00"
         ],
         "xaxis": "x",
         "y": [
          3.8227812076494505
         ],
         "yaxis": "y"
        },
        {
         "hovertemplate": "weekday=Monday<br>tarih=%{x}<br>profit=%{y}<extra></extra>",
         "legendgroup": "Monday",
         "line": {
          "color": "#00cc96",
          "dash": "solid"
         },
         "marker": {
          "symbol": "circle"
         },
         "mode": "lines",
         "name": "Monday",
         "orientation": "v",
         "showlegend": true,
         "type": "scatter",
         "x": [
          "2018-12-31T00:00:00"
         ],
         "xaxis": "x",
         "y": [
          3.3120431278588542
         ],
         "yaxis": "y"
        },
        {
         "hovertemplate": "weekday=Tuesday<br>tarih=%{x}<br>profit=%{y}<extra></extra>",
         "legendgroup": "Tuesday",
         "line": {
          "color": "#ab63fa",
          "dash": "solid"
         },
         "marker": {
          "symbol": "circle"
         },
         "mode": "lines",
         "name": "Tuesday",
         "orientation": "v",
         "showlegend": true,
         "type": "scatter",
         "x": [
          "2019-12-31T00:00:00"
         ],
         "xaxis": "x",
         "y": [
          4.692872531418313
         ],
         "yaxis": "y"
        },
        {
         "hovertemplate": "weekday=Thursday<br>tarih=%{x}<br>profit=%{y}<extra></extra>",
         "legendgroup": "Thursday",
         "line": {
          "color": "#FFA15A",
          "dash": "solid"
         },
         "marker": {
          "symbol": "circle"
         },
         "mode": "lines",
         "name": "Thursday",
         "orientation": "v",
         "showlegend": true,
         "type": "scatter",
         "x": [
          "2020-12-31T00:00:00"
         ],
         "xaxis": "x",
         "y": [
          4.724575835475579
         ],
         "yaxis": "y"
        },
        {
         "hovertemplate": "weekday=Friday<br>tarih=%{x}<br>profit=%{y}<extra></extra>",
         "legendgroup": "Friday",
         "line": {
          "color": "#19d3f3",
          "dash": "solid"
         },
         "marker": {
          "symbol": "circle"
         },
         "mode": "lines",
         "name": "Friday",
         "orientation": "v",
         "showlegend": true,
         "type": "scatter",
         "x": [
          "2021-12-31T00:00:00"
         ],
         "xaxis": "x",
         "y": [
          4.08153713298791
         ],
         "yaxis": "y"
        }
       ],
       "layout": {
        "legend": {
         "title": {
          "text": "weekday"
         },
         "tracegroupgap": 0
        },
        "template": {
         "data": {
          "bar": [
           {
            "error_x": {
             "color": "#2a3f5f"
            },
            "error_y": {
             "color": "#2a3f5f"
            },
            "marker": {
             "line": {
              "color": "#E5ECF6",
              "width": 0.5
             },
             "pattern": {
              "fillmode": "overlay",
              "size": 10,
              "solidity": 0.2
             }
            },
            "type": "bar"
           }
          ],
          "barpolar": [
           {
            "marker": {
             "line": {
              "color": "#E5ECF6",
              "width": 0.5
             },
             "pattern": {
              "fillmode": "overlay",
              "size": 10,
              "solidity": 0.2
             }
            },
            "type": "barpolar"
           }
          ],
          "carpet": [
           {
            "aaxis": {
             "endlinecolor": "#2a3f5f",
             "gridcolor": "white",
             "linecolor": "white",
             "minorgridcolor": "white",
             "startlinecolor": "#2a3f5f"
            },
            "baxis": {
             "endlinecolor": "#2a3f5f",
             "gridcolor": "white",
             "linecolor": "white",
             "minorgridcolor": "white",
             "startlinecolor": "#2a3f5f"
            },
            "type": "carpet"
           }
          ],
          "choropleth": [
           {
            "colorbar": {
             "outlinewidth": 0,
             "ticks": ""
            },
            "type": "choropleth"
           }
          ],
          "contour": [
           {
            "colorbar": {
             "outlinewidth": 0,
             "ticks": ""
            },
            "colorscale": [
             [
              0,
              "#0d0887"
             ],
             [
              0.1111111111111111,
              "#46039f"
             ],
             [
              0.2222222222222222,
              "#7201a8"
             ],
             [
              0.3333333333333333,
              "#9c179e"
             ],
             [
              0.4444444444444444,
              "#bd3786"
             ],
             [
              0.5555555555555556,
              "#d8576b"
             ],
             [
              0.6666666666666666,
              "#ed7953"
             ],
             [
              0.7777777777777778,
              "#fb9f3a"
             ],
             [
              0.8888888888888888,
              "#fdca26"
             ],
             [
              1,
              "#f0f921"
             ]
            ],
            "type": "contour"
           }
          ],
          "contourcarpet": [
           {
            "colorbar": {
             "outlinewidth": 0,
             "ticks": ""
            },
            "type": "contourcarpet"
           }
          ],
          "heatmap": [
           {
            "colorbar": {
             "outlinewidth": 0,
             "ticks": ""
            },
            "colorscale": [
             [
              0,
              "#0d0887"
             ],
             [
              0.1111111111111111,
              "#46039f"
             ],
             [
              0.2222222222222222,
              "#7201a8"
             ],
             [
              0.3333333333333333,
              "#9c179e"
             ],
             [
              0.4444444444444444,
              "#bd3786"
             ],
             [
              0.5555555555555556,
              "#d8576b"
             ],
             [
              0.6666666666666666,
              "#ed7953"
             ],
             [
              0.7777777777777778,
              "#fb9f3a"
             ],
             [
              0.8888888888888888,
              "#fdca26"
             ],
             [
              1,
              "#f0f921"
             ]
            ],
            "type": "heatmap"
           }
          ],
          "heatmapgl": [
           {
            "colorbar": {
             "outlinewidth": 0,
             "ticks": ""
            },
            "colorscale": [
             [
              0,
              "#0d0887"
             ],
             [
              0.1111111111111111,
              "#46039f"
             ],
             [
              0.2222222222222222,
              "#7201a8"
             ],
             [
              0.3333333333333333,
              "#9c179e"
             ],
             [
              0.4444444444444444,
              "#bd3786"
             ],
             [
              0.5555555555555556,
              "#d8576b"
             ],
             [
              0.6666666666666666,
              "#ed7953"
             ],
             [
              0.7777777777777778,
              "#fb9f3a"
             ],
             [
              0.8888888888888888,
              "#fdca26"
             ],
             [
              1,
              "#f0f921"
             ]
            ],
            "type": "heatmapgl"
           }
          ],
          "histogram": [
           {
            "marker": {
             "pattern": {
              "fillmode": "overlay",
              "size": 10,
              "solidity": 0.2
             }
            },
            "type": "histogram"
           }
          ],
          "histogram2d": [
           {
            "colorbar": {
             "outlinewidth": 0,
             "ticks": ""
            },
            "colorscale": [
             [
              0,
              "#0d0887"
             ],
             [
              0.1111111111111111,
              "#46039f"
             ],
             [
              0.2222222222222222,
              "#7201a8"
             ],
             [
              0.3333333333333333,
              "#9c179e"
             ],
             [
              0.4444444444444444,
              "#bd3786"
             ],
             [
              0.5555555555555556,
              "#d8576b"
             ],
             [
              0.6666666666666666,
              "#ed7953"
             ],
             [
              0.7777777777777778,
              "#fb9f3a"
             ],
             [
              0.8888888888888888,
              "#fdca26"
             ],
             [
              1,
              "#f0f921"
             ]
            ],
            "type": "histogram2d"
           }
          ],
          "histogram2dcontour": [
           {
            "colorbar": {
             "outlinewidth": 0,
             "ticks": ""
            },
            "colorscale": [
             [
              0,
              "#0d0887"
             ],
             [
              0.1111111111111111,
              "#46039f"
             ],
             [
              0.2222222222222222,
              "#7201a8"
             ],
             [
              0.3333333333333333,
              "#9c179e"
             ],
             [
              0.4444444444444444,
              "#bd3786"
             ],
             [
              0.5555555555555556,
              "#d8576b"
             ],
             [
              0.6666666666666666,
              "#ed7953"
             ],
             [
              0.7777777777777778,
              "#fb9f3a"
             ],
             [
              0.8888888888888888,
              "#fdca26"
             ],
             [
              1,
              "#f0f921"
             ]
            ],
            "type": "histogram2dcontour"
           }
          ],
          "mesh3d": [
           {
            "colorbar": {
             "outlinewidth": 0,
             "ticks": ""
            },
            "type": "mesh3d"
           }
          ],
          "parcoords": [
           {
            "line": {
             "colorbar": {
              "outlinewidth": 0,
              "ticks": ""
             }
            },
            "type": "parcoords"
           }
          ],
          "pie": [
           {
            "automargin": true,
            "type": "pie"
           }
          ],
          "scatter": [
           {
            "fillpattern": {
             "fillmode": "overlay",
             "size": 10,
             "solidity": 0.2
            },
            "type": "scatter"
           }
          ],
          "scatter3d": [
           {
            "line": {
             "colorbar": {
              "outlinewidth": 0,
              "ticks": ""
             }
            },
            "marker": {
             "colorbar": {
              "outlinewidth": 0,
              "ticks": ""
             }
            },
            "type": "scatter3d"
           }
          ],
          "scattercarpet": [
           {
            "marker": {
             "colorbar": {
              "outlinewidth": 0,
              "ticks": ""
             }
            },
            "type": "scattercarpet"
           }
          ],
          "scattergeo": [
           {
            "marker": {
             "colorbar": {
              "outlinewidth": 0,
              "ticks": ""
             }
            },
            "type": "scattergeo"
           }
          ],
          "scattergl": [
           {
            "marker": {
             "colorbar": {
              "outlinewidth": 0,
              "ticks": ""
             }
            },
            "type": "scattergl"
           }
          ],
          "scattermapbox": [
           {
            "marker": {
             "colorbar": {
              "outlinewidth": 0,
              "ticks": ""
             }
            },
            "type": "scattermapbox"
           }
          ],
          "scatterpolar": [
           {
            "marker": {
             "colorbar": {
              "outlinewidth": 0,
              "ticks": ""
             }
            },
            "type": "scatterpolar"
           }
          ],
          "scatterpolargl": [
           {
            "marker": {
             "colorbar": {
              "outlinewidth": 0,
              "ticks": ""
             }
            },
            "type": "scatterpolargl"
           }
          ],
          "scatterternary": [
           {
            "marker": {
             "colorbar": {
              "outlinewidth": 0,
              "ticks": ""
             }
            },
            "type": "scatterternary"
           }
          ],
          "surface": [
           {
            "colorbar": {
             "outlinewidth": 0,
             "ticks": ""
            },
            "colorscale": [
             [
              0,
              "#0d0887"
             ],
             [
              0.1111111111111111,
              "#46039f"
             ],
             [
              0.2222222222222222,
              "#7201a8"
             ],
             [
              0.3333333333333333,
              "#9c179e"
             ],
             [
              0.4444444444444444,
              "#bd3786"
             ],
             [
              0.5555555555555556,
              "#d8576b"
             ],
             [
              0.6666666666666666,
              "#ed7953"
             ],
             [
              0.7777777777777778,
              "#fb9f3a"
             ],
             [
              0.8888888888888888,
              "#fdca26"
             ],
             [
              1,
              "#f0f921"
             ]
            ],
            "type": "surface"
           }
          ],
          "table": [
           {
            "cells": {
             "fill": {
              "color": "#EBF0F8"
             },
             "line": {
              "color": "white"
             }
            },
            "header": {
             "fill": {
              "color": "#C8D4E3"
             },
             "line": {
              "color": "white"
             }
            },
            "type": "table"
           }
          ]
         },
         "layout": {
          "annotationdefaults": {
           "arrowcolor": "#2a3f5f",
           "arrowhead": 0,
           "arrowwidth": 1
          },
          "autotypenumbers": "strict",
          "coloraxis": {
           "colorbar": {
            "outlinewidth": 0,
            "ticks": ""
           }
          },
          "colorscale": {
           "diverging": [
            [
             0,
             "#8e0152"
            ],
            [
             0.1,
             "#c51b7d"
            ],
            [
             0.2,
             "#de77ae"
            ],
            [
             0.3,
             "#f1b6da"
            ],
            [
             0.4,
             "#fde0ef"
            ],
            [
             0.5,
             "#f7f7f7"
            ],
            [
             0.6,
             "#e6f5d0"
            ],
            [
             0.7,
             "#b8e186"
            ],
            [
             0.8,
             "#7fbc41"
            ],
            [
             0.9,
             "#4d9221"
            ],
            [
             1,
             "#276419"
            ]
           ],
           "sequential": [
            [
             0,
             "#0d0887"
            ],
            [
             0.1111111111111111,
             "#46039f"
            ],
            [
             0.2222222222222222,
             "#7201a8"
            ],
            [
             0.3333333333333333,
             "#9c179e"
            ],
            [
             0.4444444444444444,
             "#bd3786"
            ],
            [
             0.5555555555555556,
             "#d8576b"
            ],
            [
             0.6666666666666666,
             "#ed7953"
            ],
            [
             0.7777777777777778,
             "#fb9f3a"
            ],
            [
             0.8888888888888888,
             "#fdca26"
            ],
            [
             1,
             "#f0f921"
            ]
           ],
           "sequentialminus": [
            [
             0,
             "#0d0887"
            ],
            [
             0.1111111111111111,
             "#46039f"
            ],
            [
             0.2222222222222222,
             "#7201a8"
            ],
            [
             0.3333333333333333,
             "#9c179e"
            ],
            [
             0.4444444444444444,
             "#bd3786"
            ],
            [
             0.5555555555555556,
             "#d8576b"
            ],
            [
             0.6666666666666666,
             "#ed7953"
            ],
            [
             0.7777777777777778,
             "#fb9f3a"
            ],
            [
             0.8888888888888888,
             "#fdca26"
            ],
            [
             1,
             "#f0f921"
            ]
           ]
          },
          "colorway": [
           "#636efa",
           "#EF553B",
           "#00cc96",
           "#ab63fa",
           "#FFA15A",
           "#19d3f3",
           "#FF6692",
           "#B6E880",
           "#FF97FF",
           "#FECB52"
          ],
          "font": {
           "color": "#2a3f5f"
          },
          "geo": {
           "bgcolor": "white",
           "lakecolor": "white",
           "landcolor": "#E5ECF6",
           "showlakes": true,
           "showland": true,
           "subunitcolor": "white"
          },
          "hoverlabel": {
           "align": "left"
          },
          "hovermode": "closest",
          "mapbox": {
           "style": "light"
          },
          "paper_bgcolor": "white",
          "plot_bgcolor": "#E5ECF6",
          "polar": {
           "angularaxis": {
            "gridcolor": "white",
            "linecolor": "white",
            "ticks": ""
           },
           "bgcolor": "#E5ECF6",
           "radialaxis": {
            "gridcolor": "white",
            "linecolor": "white",
            "ticks": ""
           }
          },
          "scene": {
           "xaxis": {
            "backgroundcolor": "#E5ECF6",
            "gridcolor": "white",
            "gridwidth": 2,
            "linecolor": "white",
            "showbackground": true,
            "ticks": "",
            "zerolinecolor": "white"
           },
           "yaxis": {
            "backgroundcolor": "#E5ECF6",
            "gridcolor": "white",
            "gridwidth": 2,
            "linecolor": "white",
            "showbackground": true,
            "ticks": "",
            "zerolinecolor": "white"
           },
           "zaxis": {
            "backgroundcolor": "#E5ECF6",
            "gridcolor": "white",
            "gridwidth": 2,
            "linecolor": "white",
            "showbackground": true,
            "ticks": "",
            "zerolinecolor": "white"
           }
          },
          "shapedefaults": {
           "line": {
            "color": "#2a3f5f"
           }
          },
          "ternary": {
           "aaxis": {
            "gridcolor": "white",
            "linecolor": "white",
            "ticks": ""
           },
           "baxis": {
            "gridcolor": "white",
            "linecolor": "white",
            "ticks": ""
           },
           "bgcolor": "#E5ECF6",
           "caxis": {
            "gridcolor": "white",
            "linecolor": "white",
            "ticks": ""
           }
          },
          "title": {
           "x": 0.05
          },
          "xaxis": {
           "automargin": true,
           "gridcolor": "white",
           "linecolor": "white",
           "ticks": "",
           "title": {
            "standoff": 15
           },
           "zerolinecolor": "white",
           "zerolinewidth": 2
          },
          "yaxis": {
           "automargin": true,
           "gridcolor": "white",
           "linecolor": "white",
           "ticks": "",
           "title": {
            "standoff": 15
           },
           "zerolinecolor": "white",
           "zerolinewidth": 2
          }
         }
        },
        "title": {
         "text": "Profit vs Time"
        },
        "xaxis": {
         "anchor": "y",
         "domain": [
          0,
          1
         ],
         "title": {
          "text": "tarih"
         }
        },
        "yaxis": {
         "anchor": "x",
         "domain": [
          0,
          1
         ],
         "title": {
          "text": "profit"
         }
        }
       }
      },
      "text/html": [
       "<div>                            <div id=\"db96f823-1808-426c-ac70-8747ac7a3a89\" class=\"plotly-graph-div\" style=\"height:525px; width:100%;\"></div>            <script type=\"text/javascript\">                require([\"plotly\"], function(Plotly) {                    window.PLOTLYENV=window.PLOTLYENV || {};                                    if (document.getElementById(\"db96f823-1808-426c-ac70-8747ac7a3a89\")) {                    Plotly.newPlot(                        \"db96f823-1808-426c-ac70-8747ac7a3a89\",                        [{\"hovertemplate\":\"weekday=Saturday\\u003cbr\\u003etarih=%{x}\\u003cbr\\u003eprofit=%{y}\\u003cextra\\u003e\\u003c\\u002fextra\\u003e\",\"legendgroup\":\"Saturday\",\"line\":{\"color\":\"#636efa\",\"dash\":\"solid\"},\"marker\":{\"symbol\":\"circle\"},\"mode\":\"lines\",\"name\":\"Saturday\",\"orientation\":\"v\",\"showlegend\":true,\"x\":[\"2016-12-31T00:00:00\"],\"xaxis\":\"x\",\"y\":[3.7590992018244016],\"yaxis\":\"y\",\"type\":\"scatter\"},{\"hovertemplate\":\"weekday=Sunday\\u003cbr\\u003etarih=%{x}\\u003cbr\\u003eprofit=%{y}\\u003cextra\\u003e\\u003c\\u002fextra\\u003e\",\"legendgroup\":\"Sunday\",\"line\":{\"color\":\"#EF553B\",\"dash\":\"solid\"},\"marker\":{\"symbol\":\"circle\"},\"mode\":\"lines\",\"name\":\"Sunday\",\"orientation\":\"v\",\"showlegend\":true,\"x\":[\"2017-12-31T00:00:00\"],\"xaxis\":\"x\",\"y\":[3.8227812076494505],\"yaxis\":\"y\",\"type\":\"scatter\"},{\"hovertemplate\":\"weekday=Monday\\u003cbr\\u003etarih=%{x}\\u003cbr\\u003eprofit=%{y}\\u003cextra\\u003e\\u003c\\u002fextra\\u003e\",\"legendgroup\":\"Monday\",\"line\":{\"color\":\"#00cc96\",\"dash\":\"solid\"},\"marker\":{\"symbol\":\"circle\"},\"mode\":\"lines\",\"name\":\"Monday\",\"orientation\":\"v\",\"showlegend\":true,\"x\":[\"2018-12-31T00:00:00\"],\"xaxis\":\"x\",\"y\":[3.3120431278588542],\"yaxis\":\"y\",\"type\":\"scatter\"},{\"hovertemplate\":\"weekday=Tuesday\\u003cbr\\u003etarih=%{x}\\u003cbr\\u003eprofit=%{y}\\u003cextra\\u003e\\u003c\\u002fextra\\u003e\",\"legendgroup\":\"Tuesday\",\"line\":{\"color\":\"#ab63fa\",\"dash\":\"solid\"},\"marker\":{\"symbol\":\"circle\"},\"mode\":\"lines\",\"name\":\"Tuesday\",\"orientation\":\"v\",\"showlegend\":true,\"x\":[\"2019-12-31T00:00:00\"],\"xaxis\":\"x\",\"y\":[4.692872531418313],\"yaxis\":\"y\",\"type\":\"scatter\"},{\"hovertemplate\":\"weekday=Thursday\\u003cbr\\u003etarih=%{x}\\u003cbr\\u003eprofit=%{y}\\u003cextra\\u003e\\u003c\\u002fextra\\u003e\",\"legendgroup\":\"Thursday\",\"line\":{\"color\":\"#FFA15A\",\"dash\":\"solid\"},\"marker\":{\"symbol\":\"circle\"},\"mode\":\"lines\",\"name\":\"Thursday\",\"orientation\":\"v\",\"showlegend\":true,\"x\":[\"2020-12-31T00:00:00\"],\"xaxis\":\"x\",\"y\":[4.724575835475579],\"yaxis\":\"y\",\"type\":\"scatter\"},{\"hovertemplate\":\"weekday=Friday\\u003cbr\\u003etarih=%{x}\\u003cbr\\u003eprofit=%{y}\\u003cextra\\u003e\\u003c\\u002fextra\\u003e\",\"legendgroup\":\"Friday\",\"line\":{\"color\":\"#19d3f3\",\"dash\":\"solid\"},\"marker\":{\"symbol\":\"circle\"},\"mode\":\"lines\",\"name\":\"Friday\",\"orientation\":\"v\",\"showlegend\":true,\"x\":[\"2021-12-31T00:00:00\"],\"xaxis\":\"x\",\"y\":[4.08153713298791],\"yaxis\":\"y\",\"type\":\"scatter\"}],                        {\"template\":{\"data\":{\"histogram2dcontour\":[{\"type\":\"histogram2dcontour\",\"colorbar\":{\"outlinewidth\":0,\"ticks\":\"\"},\"colorscale\":[[0.0,\"#0d0887\"],[0.1111111111111111,\"#46039f\"],[0.2222222222222222,\"#7201a8\"],[0.3333333333333333,\"#9c179e\"],[0.4444444444444444,\"#bd3786\"],[0.5555555555555556,\"#d8576b\"],[0.6666666666666666,\"#ed7953\"],[0.7777777777777778,\"#fb9f3a\"],[0.8888888888888888,\"#fdca26\"],[1.0,\"#f0f921\"]]}],\"choropleth\":[{\"type\":\"choropleth\",\"colorbar\":{\"outlinewidth\":0,\"ticks\":\"\"}}],\"histogram2d\":[{\"type\":\"histogram2d\",\"colorbar\":{\"outlinewidth\":0,\"ticks\":\"\"},\"colorscale\":[[0.0,\"#0d0887\"],[0.1111111111111111,\"#46039f\"],[0.2222222222222222,\"#7201a8\"],[0.3333333333333333,\"#9c179e\"],[0.4444444444444444,\"#bd3786\"],[0.5555555555555556,\"#d8576b\"],[0.6666666666666666,\"#ed7953\"],[0.7777777777777778,\"#fb9f3a\"],[0.8888888888888888,\"#fdca26\"],[1.0,\"#f0f921\"]]}],\"heatmap\":[{\"type\":\"heatmap\",\"colorbar\":{\"outlinewidth\":0,\"ticks\":\"\"},\"colorscale\":[[0.0,\"#0d0887\"],[0.1111111111111111,\"#46039f\"],[0.2222222222222222,\"#7201a8\"],[0.3333333333333333,\"#9c179e\"],[0.4444444444444444,\"#bd3786\"],[0.5555555555555556,\"#d8576b\"],[0.6666666666666666,\"#ed7953\"],[0.7777777777777778,\"#fb9f3a\"],[0.8888888888888888,\"#fdca26\"],[1.0,\"#f0f921\"]]}],\"heatmapgl\":[{\"type\":\"heatmapgl\",\"colorbar\":{\"outlinewidth\":0,\"ticks\":\"\"},\"colorscale\":[[0.0,\"#0d0887\"],[0.1111111111111111,\"#46039f\"],[0.2222222222222222,\"#7201a8\"],[0.3333333333333333,\"#9c179e\"],[0.4444444444444444,\"#bd3786\"],[0.5555555555555556,\"#d8576b\"],[0.6666666666666666,\"#ed7953\"],[0.7777777777777778,\"#fb9f3a\"],[0.8888888888888888,\"#fdca26\"],[1.0,\"#f0f921\"]]}],\"contourcarpet\":[{\"type\":\"contourcarpet\",\"colorbar\":{\"outlinewidth\":0,\"ticks\":\"\"}}],\"contour\":[{\"type\":\"contour\",\"colorbar\":{\"outlinewidth\":0,\"ticks\":\"\"},\"colorscale\":[[0.0,\"#0d0887\"],[0.1111111111111111,\"#46039f\"],[0.2222222222222222,\"#7201a8\"],[0.3333333333333333,\"#9c179e\"],[0.4444444444444444,\"#bd3786\"],[0.5555555555555556,\"#d8576b\"],[0.6666666666666666,\"#ed7953\"],[0.7777777777777778,\"#fb9f3a\"],[0.8888888888888888,\"#fdca26\"],[1.0,\"#f0f921\"]]}],\"surface\":[{\"type\":\"surface\",\"colorbar\":{\"outlinewidth\":0,\"ticks\":\"\"},\"colorscale\":[[0.0,\"#0d0887\"],[0.1111111111111111,\"#46039f\"],[0.2222222222222222,\"#7201a8\"],[0.3333333333333333,\"#9c179e\"],[0.4444444444444444,\"#bd3786\"],[0.5555555555555556,\"#d8576b\"],[0.6666666666666666,\"#ed7953\"],[0.7777777777777778,\"#fb9f3a\"],[0.8888888888888888,\"#fdca26\"],[1.0,\"#f0f921\"]]}],\"mesh3d\":[{\"type\":\"mesh3d\",\"colorbar\":{\"outlinewidth\":0,\"ticks\":\"\"}}],\"scatter\":[{\"fillpattern\":{\"fillmode\":\"overlay\",\"size\":10,\"solidity\":0.2},\"type\":\"scatter\"}],\"parcoords\":[{\"type\":\"parcoords\",\"line\":{\"colorbar\":{\"outlinewidth\":0,\"ticks\":\"\"}}}],\"scatterpolargl\":[{\"type\":\"scatterpolargl\",\"marker\":{\"colorbar\":{\"outlinewidth\":0,\"ticks\":\"\"}}}],\"bar\":[{\"error_x\":{\"color\":\"#2a3f5f\"},\"error_y\":{\"color\":\"#2a3f5f\"},\"marker\":{\"line\":{\"color\":\"#E5ECF6\",\"width\":0.5},\"pattern\":{\"fillmode\":\"overlay\",\"size\":10,\"solidity\":0.2}},\"type\":\"bar\"}],\"scattergeo\":[{\"type\":\"scattergeo\",\"marker\":{\"colorbar\":{\"outlinewidth\":0,\"ticks\":\"\"}}}],\"scatterpolar\":[{\"type\":\"scatterpolar\",\"marker\":{\"colorbar\":{\"outlinewidth\":0,\"ticks\":\"\"}}}],\"histogram\":[{\"marker\":{\"pattern\":{\"fillmode\":\"overlay\",\"size\":10,\"solidity\":0.2}},\"type\":\"histogram\"}],\"scattergl\":[{\"type\":\"scattergl\",\"marker\":{\"colorbar\":{\"outlinewidth\":0,\"ticks\":\"\"}}}],\"scatter3d\":[{\"type\":\"scatter3d\",\"line\":{\"colorbar\":{\"outlinewidth\":0,\"ticks\":\"\"}},\"marker\":{\"colorbar\":{\"outlinewidth\":0,\"ticks\":\"\"}}}],\"scattermapbox\":[{\"type\":\"scattermapbox\",\"marker\":{\"colorbar\":{\"outlinewidth\":0,\"ticks\":\"\"}}}],\"scatterternary\":[{\"type\":\"scatterternary\",\"marker\":{\"colorbar\":{\"outlinewidth\":0,\"ticks\":\"\"}}}],\"scattercarpet\":[{\"type\":\"scattercarpet\",\"marker\":{\"colorbar\":{\"outlinewidth\":0,\"ticks\":\"\"}}}],\"carpet\":[{\"aaxis\":{\"endlinecolor\":\"#2a3f5f\",\"gridcolor\":\"white\",\"linecolor\":\"white\",\"minorgridcolor\":\"white\",\"startlinecolor\":\"#2a3f5f\"},\"baxis\":{\"endlinecolor\":\"#2a3f5f\",\"gridcolor\":\"white\",\"linecolor\":\"white\",\"minorgridcolor\":\"white\",\"startlinecolor\":\"#2a3f5f\"},\"type\":\"carpet\"}],\"table\":[{\"cells\":{\"fill\":{\"color\":\"#EBF0F8\"},\"line\":{\"color\":\"white\"}},\"header\":{\"fill\":{\"color\":\"#C8D4E3\"},\"line\":{\"color\":\"white\"}},\"type\":\"table\"}],\"barpolar\":[{\"marker\":{\"line\":{\"color\":\"#E5ECF6\",\"width\":0.5},\"pattern\":{\"fillmode\":\"overlay\",\"size\":10,\"solidity\":0.2}},\"type\":\"barpolar\"}],\"pie\":[{\"automargin\":true,\"type\":\"pie\"}]},\"layout\":{\"autotypenumbers\":\"strict\",\"colorway\":[\"#636efa\",\"#EF553B\",\"#00cc96\",\"#ab63fa\",\"#FFA15A\",\"#19d3f3\",\"#FF6692\",\"#B6E880\",\"#FF97FF\",\"#FECB52\"],\"font\":{\"color\":\"#2a3f5f\"},\"hovermode\":\"closest\",\"hoverlabel\":{\"align\":\"left\"},\"paper_bgcolor\":\"white\",\"plot_bgcolor\":\"#E5ECF6\",\"polar\":{\"bgcolor\":\"#E5ECF6\",\"angularaxis\":{\"gridcolor\":\"white\",\"linecolor\":\"white\",\"ticks\":\"\"},\"radialaxis\":{\"gridcolor\":\"white\",\"linecolor\":\"white\",\"ticks\":\"\"}},\"ternary\":{\"bgcolor\":\"#E5ECF6\",\"aaxis\":{\"gridcolor\":\"white\",\"linecolor\":\"white\",\"ticks\":\"\"},\"baxis\":{\"gridcolor\":\"white\",\"linecolor\":\"white\",\"ticks\":\"\"},\"caxis\":{\"gridcolor\":\"white\",\"linecolor\":\"white\",\"ticks\":\"\"}},\"coloraxis\":{\"colorbar\":{\"outlinewidth\":0,\"ticks\":\"\"}},\"colorscale\":{\"sequential\":[[0.0,\"#0d0887\"],[0.1111111111111111,\"#46039f\"],[0.2222222222222222,\"#7201a8\"],[0.3333333333333333,\"#9c179e\"],[0.4444444444444444,\"#bd3786\"],[0.5555555555555556,\"#d8576b\"],[0.6666666666666666,\"#ed7953\"],[0.7777777777777778,\"#fb9f3a\"],[0.8888888888888888,\"#fdca26\"],[1.0,\"#f0f921\"]],\"sequentialminus\":[[0.0,\"#0d0887\"],[0.1111111111111111,\"#46039f\"],[0.2222222222222222,\"#7201a8\"],[0.3333333333333333,\"#9c179e\"],[0.4444444444444444,\"#bd3786\"],[0.5555555555555556,\"#d8576b\"],[0.6666666666666666,\"#ed7953\"],[0.7777777777777778,\"#fb9f3a\"],[0.8888888888888888,\"#fdca26\"],[1.0,\"#f0f921\"]],\"diverging\":[[0,\"#8e0152\"],[0.1,\"#c51b7d\"],[0.2,\"#de77ae\"],[0.3,\"#f1b6da\"],[0.4,\"#fde0ef\"],[0.5,\"#f7f7f7\"],[0.6,\"#e6f5d0\"],[0.7,\"#b8e186\"],[0.8,\"#7fbc41\"],[0.9,\"#4d9221\"],[1,\"#276419\"]]},\"xaxis\":{\"gridcolor\":\"white\",\"linecolor\":\"white\",\"ticks\":\"\",\"title\":{\"standoff\":15},\"zerolinecolor\":\"white\",\"automargin\":true,\"zerolinewidth\":2},\"yaxis\":{\"gridcolor\":\"white\",\"linecolor\":\"white\",\"ticks\":\"\",\"title\":{\"standoff\":15},\"zerolinecolor\":\"white\",\"automargin\":true,\"zerolinewidth\":2},\"scene\":{\"xaxis\":{\"backgroundcolor\":\"#E5ECF6\",\"gridcolor\":\"white\",\"linecolor\":\"white\",\"showbackground\":true,\"ticks\":\"\",\"zerolinecolor\":\"white\",\"gridwidth\":2},\"yaxis\":{\"backgroundcolor\":\"#E5ECF6\",\"gridcolor\":\"white\",\"linecolor\":\"white\",\"showbackground\":true,\"ticks\":\"\",\"zerolinecolor\":\"white\",\"gridwidth\":2},\"zaxis\":{\"backgroundcolor\":\"#E5ECF6\",\"gridcolor\":\"white\",\"linecolor\":\"white\",\"showbackground\":true,\"ticks\":\"\",\"zerolinecolor\":\"white\",\"gridwidth\":2}},\"shapedefaults\":{\"line\":{\"color\":\"#2a3f5f\"}},\"annotationdefaults\":{\"arrowcolor\":\"#2a3f5f\",\"arrowhead\":0,\"arrowwidth\":1},\"geo\":{\"bgcolor\":\"white\",\"landcolor\":\"#E5ECF6\",\"subunitcolor\":\"white\",\"showland\":true,\"showlakes\":true,\"lakecolor\":\"white\"},\"title\":{\"x\":0.05},\"mapbox\":{\"style\":\"light\"}}},\"xaxis\":{\"anchor\":\"y\",\"domain\":[0.0,1.0],\"title\":{\"text\":\"tarih\"}},\"yaxis\":{\"anchor\":\"x\",\"domain\":[0.0,1.0],\"title\":{\"text\":\"profit\"}},\"legend\":{\"title\":{\"text\":\"weekday\"},\"tracegroupgap\":0},\"title\":{\"text\":\"Profit vs Time\"}},                        {\"responsive\": true}                    ).then(function(){\n",
       "                            \n",
       "var gd = document.getElementById('db96f823-1808-426c-ac70-8747ac7a3a89');\n",
       "var x = new MutationObserver(function (mutations, observer) {{\n",
       "        var display = window.getComputedStyle(gd).display;\n",
       "        if (!display || display === 'none') {{\n",
       "            console.log([gd, 'removed!']);\n",
       "            Plotly.purge(gd);\n",
       "            observer.disconnect();\n",
       "        }}\n",
       "}});\n",
       "\n",
       "// Listen for the removal of the full notebook cells\n",
       "var notebookContainer = gd.closest('#notebook-container');\n",
       "if (notebookContainer) {{\n",
       "    x.observe(notebookContainer, {childList: true});\n",
       "}}\n",
       "\n",
       "// Listen for the clearing of the current output cell\n",
       "var outputEl = gd.closest('.output');\n",
       "if (outputEl) {{\n",
       "    x.observe(outputEl, {childList: true});\n",
       "}}\n",
       "\n",
       "                        })                };                });            </script>        </div>"
      ]
     },
     "metadata": {},
     "output_type": "display_data"
    }
   ],
   "source": [
    "plot_length = 150\n",
    "plot_df = resample_df.copy(deep=True).iloc[:plot_length]\n",
    "plot_df['weekday'] = plot_df['tarih'].dt.day_name()\n",
    "\n",
    "# Plotly ile çizim yapma\n",
    "import plotly.express as px\n",
    "\n",
    "fig = px.line(plot_df,\n",
    "              x=\"tarih\",\n",
    "              y=\"profit\", \n",
    "              color=\"weekday\", \n",
    "              title=\"Profit vs Time\")\n",
    "fig.show()\n",
    "\n",
    "# tam uyarlayamadım zaman serisini neyse problem yok devam"
   ]
  },
  {
   "cell_type": "markdown",
   "id": "a614036c",
   "metadata": {},
   "source": [
    "### Öncelikle random forest regressor ve diğer birkaç machine learning metodu denemesi, sonrasında da lstm, cnn+lstm, mlp ve rnn gibi modeller denemeyi planlıyorum"
   ]
  },
  {
   "cell_type": "code",
   "execution_count": 170,
   "id": "ee8b0489",
   "metadata": {},
   "outputs": [
    {
     "name": "stdout",
     "output_type": "stream",
     "text": [
      "['kalem', 'mağaza', 'tarih', 'satış adedi', 'satış tutarı', 'month', 'day_of_month', 'day_of_week', 'profit']\n"
     ]
    }
   ],
   "source": [
    "print(cols_corr)"
   ]
  },
  {
   "cell_type": "code",
   "execution_count": 197,
   "id": "9e9baac5",
   "metadata": {},
   "outputs": [],
   "source": [
    "#separating independent and dependent variable\n",
    "#X = data[['kalem', 'mağaza', 'satış adedi', 'satış tutarı', 'month', 'day_of_month', 'day_of_week']].values #burası daha düzenlenicek\n",
    "X = data[['kalem', 'mağaza', 'month', 'day_of_month', 'day_of_week']].values #burası daha düzenlenicek\n",
    "\n",
    "y = data[['profit']].values"
   ]
  },
  {
   "cell_type": "code",
   "execution_count": 198,
   "id": "3dda33d8",
   "metadata": {},
   "outputs": [
    {
     "data": {
      "text/plain": [
       "array([[50012011240,         415,           7,          30,           5],\n",
       "       [50012011240,         632,           7,          30,           5],\n",
       "       [50012011240,         521,           7,          30,           5],\n",
       "       ...,\n",
       "       [ 8000520021,         312,           8,          19,           3],\n",
       "       [ 8000451112,         312,           8,          19,           3],\n",
       "       [ 8000451112,         312,           8,          19,           3]],\n",
       "      dtype=int64)"
      ]
     },
     "execution_count": 198,
     "metadata": {},
     "output_type": "execute_result"
    }
   ],
   "source": [
    "X"
   ]
  },
  {
   "cell_type": "code",
   "execution_count": 199,
   "id": "80b3341b",
   "metadata": {},
   "outputs": [
    {
     "data": {
      "text/plain": [
       "array([[5.49],\n",
       "       [5.49],\n",
       "       [5.49],\n",
       "       ...,\n",
       "       [2.49],\n",
       "       [3.99],\n",
       "       [3.99]])"
      ]
     },
     "execution_count": 199,
     "metadata": {},
     "output_type": "execute_result"
    }
   ],
   "source": [
    "y"
   ]
  },
  {
   "cell_type": "code",
   "execution_count": 200,
   "id": "9ce84281",
   "metadata": {},
   "outputs": [],
   "source": [
    "X_train, X_test, y_train, y_test = train_test_split(X, y, test_size = 0.25, random_state = 42)"
   ]
  },
  {
   "cell_type": "code",
   "execution_count": null,
   "id": "4b309930",
   "metadata": {},
   "outputs": [],
   "source": []
  },
  {
   "cell_type": "code",
   "execution_count": 201,
   "id": "d73de5dc",
   "metadata": {
    "scrolled": true
   },
   "outputs": [
    {
     "name": "stdout",
     "output_type": "stream",
     "text": [
      "R2 score: 0.5020641976738678\n",
      "Best Score: 0.5253929991783053\n",
      "Best params: {'max_features': 'sqrt', 'min_samples_split': 8, 'n_estimators': 100}\n"
     ]
    }
   ],
   "source": [
    "def Grid_Search_CV_RFR(X_train, y_train):\n",
    "    estimator = RandomForestRegressor()\n",
    "    param_grid = { \n",
    "            \"n_estimators\": [10, 20, 30, 40, 50, 60, 70, 80, 90, 100, 125, 150, 200, 250],\n",
    "            \"max_features\": [\"auto\", \"sqrt\", \"log2\"],\n",
    "            \"min_samples_split\": [2, 4, 8]\n",
    "            }\n",
    "\n",
    "    grid = GridSearchCV(estimator, param_grid, n_jobs=-1, cv=5)\n",
    "    grid.fit(X_train, y_train)\n",
    "\n",
    "    return grid.best_score_, grid.best_params_\n",
    "\n",
    "# R2 skorunu hesaplama\n",
    "def RFR(X_train, X_test, y_train, y_test, best_params):\n",
    "    estimator = RandomForestRegressor(n_jobs=-1).set_params(**best_params)\n",
    "    estimator.fit(X_train, y_train)\n",
    "    y_predict = estimator.predict(X_test)\n",
    "    print(\"R2 score:\", r2_score(y_test, y_predict))\n",
    "    return y_test, y_predict\n",
    "\n",
    "# Grid Search ve RFR modelini çalıştırma\n",
    "best_score, best_params = Grid_Search_CV_RFR(X_train, y_train)\n",
    "y_test, y_predict = RFR(X_train, X_test, y_train, y_test, best_params)\n",
    "print(\"Best Score:\", best_score)\n",
    "print(\"Best params:\", best_params)"
   ]
  },
  {
   "cell_type": "code",
   "execution_count": 205,
   "id": "6194e6ee",
   "metadata": {
    "scrolled": false
   },
   "outputs": [
    {
     "data": {
      "text/html": [
       "<style>#sk-container-id-5 {color: black;background-color: white;}#sk-container-id-5 pre{padding: 0;}#sk-container-id-5 div.sk-toggleable {background-color: white;}#sk-container-id-5 label.sk-toggleable__label {cursor: pointer;display: block;width: 100%;margin-bottom: 0;padding: 0.3em;box-sizing: border-box;text-align: center;}#sk-container-id-5 label.sk-toggleable__label-arrow:before {content: \"▸\";float: left;margin-right: 0.25em;color: #696969;}#sk-container-id-5 label.sk-toggleable__label-arrow:hover:before {color: black;}#sk-container-id-5 div.sk-estimator:hover label.sk-toggleable__label-arrow:before {color: black;}#sk-container-id-5 div.sk-toggleable__content {max-height: 0;max-width: 0;overflow: hidden;text-align: left;background-color: #f0f8ff;}#sk-container-id-5 div.sk-toggleable__content pre {margin: 0.2em;color: black;border-radius: 0.25em;background-color: #f0f8ff;}#sk-container-id-5 input.sk-toggleable__control:checked~div.sk-toggleable__content {max-height: 200px;max-width: 100%;overflow: auto;}#sk-container-id-5 input.sk-toggleable__control:checked~label.sk-toggleable__label-arrow:before {content: \"▾\";}#sk-container-id-5 div.sk-estimator input.sk-toggleable__control:checked~label.sk-toggleable__label {background-color: #d4ebff;}#sk-container-id-5 div.sk-label input.sk-toggleable__control:checked~label.sk-toggleable__label {background-color: #d4ebff;}#sk-container-id-5 input.sk-hidden--visually {border: 0;clip: rect(1px 1px 1px 1px);clip: rect(1px, 1px, 1px, 1px);height: 1px;margin: -1px;overflow: hidden;padding: 0;position: absolute;width: 1px;}#sk-container-id-5 div.sk-estimator {font-family: monospace;background-color: #f0f8ff;border: 1px dotted black;border-radius: 0.25em;box-sizing: border-box;margin-bottom: 0.5em;}#sk-container-id-5 div.sk-estimator:hover {background-color: #d4ebff;}#sk-container-id-5 div.sk-parallel-item::after {content: \"\";width: 100%;border-bottom: 1px solid gray;flex-grow: 1;}#sk-container-id-5 div.sk-label:hover label.sk-toggleable__label {background-color: #d4ebff;}#sk-container-id-5 div.sk-serial::before {content: \"\";position: absolute;border-left: 1px solid gray;box-sizing: border-box;top: 0;bottom: 0;left: 50%;z-index: 0;}#sk-container-id-5 div.sk-serial {display: flex;flex-direction: column;align-items: center;background-color: white;padding-right: 0.2em;padding-left: 0.2em;position: relative;}#sk-container-id-5 div.sk-item {position: relative;z-index: 1;}#sk-container-id-5 div.sk-parallel {display: flex;align-items: stretch;justify-content: center;background-color: white;position: relative;}#sk-container-id-5 div.sk-item::before, #sk-container-id-5 div.sk-parallel-item::before {content: \"\";position: absolute;border-left: 1px solid gray;box-sizing: border-box;top: 0;bottom: 0;left: 50%;z-index: -1;}#sk-container-id-5 div.sk-parallel-item {display: flex;flex-direction: column;z-index: 1;position: relative;background-color: white;}#sk-container-id-5 div.sk-parallel-item:first-child::after {align-self: flex-end;width: 50%;}#sk-container-id-5 div.sk-parallel-item:last-child::after {align-self: flex-start;width: 50%;}#sk-container-id-5 div.sk-parallel-item:only-child::after {width: 0;}#sk-container-id-5 div.sk-dashed-wrapped {border: 1px dashed gray;margin: 0 0.4em 0.5em 0.4em;box-sizing: border-box;padding-bottom: 0.4em;background-color: white;}#sk-container-id-5 div.sk-label label {font-family: monospace;font-weight: bold;display: inline-block;line-height: 1.2em;}#sk-container-id-5 div.sk-label-container {text-align: center;}#sk-container-id-5 div.sk-container {/* jupyter's `normalize.less` sets `[hidden] { display: none; }` but bootstrap.min.css set `[hidden] { display: none !important; }` so we also need the `!important` here to be able to override the default hidden behavior on the sphinx rendered scikit-learn.org. See: https://github.com/scikit-learn/scikit-learn/issues/21755 */display: inline-block !important;position: relative;}#sk-container-id-5 div.sk-text-repr-fallback {display: none;}</style><div id=\"sk-container-id-5\" class=\"sk-top-container\"><div class=\"sk-text-repr-fallback\"><pre>RandomForestRegressor(max_features=&#x27;auto&#x27;, min_samples_split=8, random_state=42)</pre><b>In a Jupyter environment, please rerun this cell to show the HTML representation or trust the notebook. <br />On GitHub, the HTML representation is unable to render, please try loading this page with nbviewer.org.</b></div><div class=\"sk-container\" hidden><div class=\"sk-item\"><div class=\"sk-estimator sk-toggleable\"><input class=\"sk-toggleable__control sk-hidden--visually\" id=\"sk-estimator-id-5\" type=\"checkbox\" checked><label for=\"sk-estimator-id-5\" class=\"sk-toggleable__label sk-toggleable__label-arrow\">RandomForestRegressor</label><div class=\"sk-toggleable__content\"><pre>RandomForestRegressor(max_features=&#x27;auto&#x27;, min_samples_split=8, random_state=42)</pre></div></div></div></div></div>"
      ],
      "text/plain": [
       "RandomForestRegressor(max_features='auto', min_samples_split=8, random_state=42)"
      ]
     },
     "execution_count": 205,
     "metadata": {},
     "output_type": "execute_result"
    }
   ],
   "source": [
    "# RandomForestRegressor\n",
    "rf_reg = RandomForestRegressor(n_estimators = 100, max_features='auto',min_samples_split= 8, criterion='squared_error',random_state = 42) \n",
    "rf_reg.fit(X_train, y_train)"
   ]
  },
  {
   "cell_type": "code",
   "execution_count": 206,
   "id": "97643c42",
   "metadata": {},
   "outputs": [
    {
     "name": "stdout",
     "output_type": "stream",
     "text": [
      "[[ 3.99  3.99]\n",
      " [ 2.85  2.49]\n",
      " [ 3.81  2.49]\n",
      " ...\n",
      " [ 6.99  6.99]\n",
      " [ 3.82 -1.01]\n",
      " [ 2.49  2.49]]\n",
      "TEST SET\n",
      "========\n",
      "MAE:                 0.6438094583041531\n",
      "RMSE:                1.1935178915617068\n",
      "r2:                  0.6544568466823433\n"
     ]
    }
   ],
   "source": [
    "y_pred = rf_reg.predict(X_test)\n",
    "np.set_printoptions(precision=2)\n",
    "print(np.concatenate((y_pred.reshape(len(y_pred),1), y_test.reshape(len(y_test),1)),1))\n",
    "y_hat = rf_reg.predict(X)\n",
    "mae = metrics.mean_absolute_error(y,y_hat)\n",
    "mse = metrics.mean_squared_error(y,y_hat)\n",
    "print (\"TEST SET\")\n",
    "print (\"========\")\n",
    "print (\"MAE:                \", mae)\n",
    "print (\"RMSE:               \", math.sqrt(mse))\n",
    "print (\"r2:                 \", rf_reg.score(X,y))"
   ]
  },
  {
   "cell_type": "code",
   "execution_count": 207,
   "id": "2d730cc5",
   "metadata": {},
   "outputs": [
    {
     "name": "stdout",
     "output_type": "stream",
     "text": [
      "Cross-validation scores:[0.51 0.49 0.51 0.5  0.49]\n"
     ]
    }
   ],
   "source": [
    "#### Applying 5-Fold Cross Validation\n",
    "scores = cross_val_score(rf_reg, X_train, y_train, cv = 5, scoring='r2')\n",
    "\n",
    "print('Cross-validation scores:{}'.format(scores))"
   ]
  },
  {
   "cell_type": "code",
   "execution_count": 208,
   "id": "59a034c5",
   "metadata": {},
   "outputs": [
    {
     "name": "stdout",
     "output_type": "stream",
     "text": [
      "Cross-validation scores:[0.5  0.5  0.49 0.48 0.53 0.49 0.46 0.52 0.45 0.51]\n"
     ]
    }
   ],
   "source": [
    "#### Applying 10-Fold Cross Validation\n",
    "scores = cross_val_score(rf_reg, X_train, y_train, cv = 10, scoring='r2')\n",
    "\n",
    "print('Cross-validation scores:{}'.format(scores))"
   ]
  },
  {
   "cell_type": "markdown",
   "id": "13b950f1",
   "metadata": {},
   "source": [
    "### satış adedini ve satış tutarını bilmeyince tahminleme açısından kabul edilebilir sonuçlarla karşılaştık. r2 s ve cross-validation karşılaştırması olayın ezberlemeden daha uzak bir noktada olduğumuzu ve bu sonuçların müşteriyle de paylaşılabilir bir noktaya yakın olduğunu gösteriyor. \n",
    "\n",
    "## işin içine X kolonları kısmında satış adedi veya satış tutarı bilgisini de eklersek R^2 skorumuz %99lara çıkar ama bu bizim istediğimiz bir durum mu? bence olmamalı."
   ]
  },
  {
   "cell_type": "markdown",
   "id": "efe9d2f4",
   "metadata": {},
   "source": [
    "### XGBRegressor modeli ile tahminlemede bulunalım"
   ]
  },
  {
   "cell_type": "code",
   "execution_count": 209,
   "id": "7a925815",
   "metadata": {},
   "outputs": [
    {
     "name": "stdout",
     "output_type": "stream",
     "text": [
      "R2 score: 0.6100018193016739\n",
      "Best Score: 0.6218555214585587\n",
      "Best params: {'learning_rate': 0.05, 'max_depth': 4, 'min_child_weight': 3, 'n_estimators': 100}\n"
     ]
    }
   ],
   "source": [
    "def Grid_Search_CV_XGB(X_train, y_train):\n",
    "    estimator = XGBRegressor()\n",
    "    param_grid = { \n",
    "            \"n_estimators\": [100, 200, 300, 400, 500],\n",
    "            \"learning_rate\": [0.01, 0.05, 0.1, 0.3, 0.5],\n",
    "            \"max_depth\": [3, 4, 5, 6, 7],\n",
    "            \"min_child_weight\": [1, 2, 3, 4]\n",
    "            }\n",
    "\n",
    "    grid = GridSearchCV(estimator, param_grid, n_jobs=-1, cv=5)\n",
    "    grid.fit(X_train, y_train)\n",
    "\n",
    "    return grid.best_score_, grid.best_params_\n",
    "\n",
    "# R2 skorunu hesaplama\n",
    "def XGBR(X_train, X_test, y_train, y_test, best_params):\n",
    "    estimator = XGBRegressor(n_jobs=-1).set_params(**best_params)\n",
    "    estimator.fit(X_train, y_train)\n",
    "    y_predict = estimator.predict(X_test)\n",
    "    print(\"R2 score:\", r2_score(y_test, y_predict))\n",
    "    return y_test, y_predict\n",
    "\n",
    "# Grid Search ve XGBR modelini çalıştırma\n",
    "best_score, best_params = Grid_Search_CV_XGB(X_train, y_train)\n",
    "y_test, y_predict = XGBR(X_train, X_test, y_train, y_test, best_params)\n",
    "print(\"Best Score:\", best_score)\n",
    "print(\"Best params:\", best_params)"
   ]
  },
  {
   "cell_type": "code",
   "execution_count": 213,
   "id": "6674c71e",
   "metadata": {},
   "outputs": [
    {
     "name": "stdout",
     "output_type": "stream",
     "text": [
      "[[ 3.97  3.99]\n",
      " [ 3.05  2.49]\n",
      " [ 3.74  2.49]\n",
      " ...\n",
      " [ 6.96  6.99]\n",
      " [ 3.06 -1.01]\n",
      " [ 2.54  2.49]]\n",
      "TEST SET\n",
      "========\n",
      "MAE:                 0.6973825752268988\n",
      "RMSE:                1.248665474953258\n",
      "r2:                  0.6217868432754952\n"
     ]
    }
   ],
   "source": [
    "xgb = XGBRegressor(n_estimators=100,\n",
    "                    learning_rate = 0.05,\n",
    "                    max_depth = 4,\n",
    "                    random_state=42,\n",
    "                    min_child_weight=3,\n",
    "                    reg_lambda=0.995,\n",
    "                    )\n",
    "\n",
    "xgb.fit(X_train, y_train)\n",
    "\n",
    "y_pred = xgb.predict(X_test)\n",
    "np.set_printoptions(precision=2)\n",
    "print(np.concatenate((y_pred.reshape(len(y_pred),1), y_test.reshape(len(y_test),1)),1))\n",
    "y_hat = xgb.predict(X)\n",
    "mae = metrics.mean_absolute_error(y,y_hat)\n",
    "mse = metrics.mean_squared_error(y,y_hat)\n",
    "print (\"TEST SET\")\n",
    "print (\"========\")\n",
    "print (\"MAE:                \", mae)\n",
    "print (\"RMSE:               \", math.sqrt(mse))\n",
    "print (\"r2:                 \", xgb.score(X,y))"
   ]
  },
  {
   "cell_type": "code",
   "execution_count": 214,
   "id": "2b8c4371",
   "metadata": {},
   "outputs": [
    {
     "name": "stdout",
     "output_type": "stream",
     "text": [
      "Cross-validation scores:[0.51 0.49 0.51 0.5  0.49]\n"
     ]
    }
   ],
   "source": [
    "#### Applying 5-Fold Cross Validation\n",
    "scores = cross_val_score(rf_reg, X_train, y_train, cv = 5, scoring='r2')\n",
    "\n",
    "print('Cross-validation scores:{}'.format(scores))"
   ]
  },
  {
   "cell_type": "markdown",
   "id": "5e8d83ce",
   "metadata": {},
   "source": [
    "### ufak bir predict fonksiyonu"
   ]
  },
  {
   "cell_type": "code",
   "execution_count": 216,
   "id": "a201d8c0",
   "metadata": {},
   "outputs": [
    {
     "name": "stdout",
     "output_type": "stream",
     "text": [
      "321 numaralı mağazada 23 mayıs cumartesi günü 50012011240 id'li kalem için beklenen profit:\n",
      "[3.03]\n"
     ]
    }
   ],
   "source": [
    "input_data = np.array([50012011240, 321, 5, 23, 5]).reshape(1, -1)\n",
    "print(\"321 numaralı mağazada 23 mayıs cumartesi günü 50012011240 id'li kalem için beklenen profit:\")\n",
    "print(xgb.predict(input_data))"
   ]
  },
  {
   "cell_type": "markdown",
   "id": "e3cdf7b7",
   "metadata": {},
   "source": [
    "### MLP"
   ]
  },
  {
   "cell_type": "code",
   "execution_count": 219,
   "id": "fbc49a55",
   "metadata": {
    "scrolled": true
   },
   "outputs": [
    {
     "name": "stdout",
     "output_type": "stream",
     "text": [
      "Epoch 1/100\n",
      "\u001b[1m302/302\u001b[0m \u001b[32m━━━━━━━━━━━━━━━━━━━━\u001b[0m\u001b[37m\u001b[0m \u001b[1m2s\u001b[0m 1ms/step - loss: 53161.9102 - mae: 66.6609 - val_loss: 11.4538 - val_mae: 2.8270\n",
      "Epoch 2/100\n",
      "\u001b[1m302/302\u001b[0m \u001b[32m━━━━━━━━━━━━━━━━━━━━\u001b[0m\u001b[37m\u001b[0m \u001b[1m0s\u001b[0m 970us/step - loss: 11.7345 - mae: 2.8744 - val_loss: 11.3866 - val_mae: 2.8376\n",
      "Epoch 3/100\n",
      "\u001b[1m302/302\u001b[0m \u001b[32m━━━━━━━━━━━━━━━━━━━━\u001b[0m\u001b[37m\u001b[0m \u001b[1m0s\u001b[0m 1ms/step - loss: 11.7302 - mae: 2.8633 - val_loss: 11.3598 - val_mae: 2.8375\n",
      "Epoch 4/100\n",
      "\u001b[1m302/302\u001b[0m \u001b[32m━━━━━━━━━━━━━━━━━━━━\u001b[0m\u001b[37m\u001b[0m \u001b[1m0s\u001b[0m 969us/step - loss: 11.6559 - mae: 2.8508 - val_loss: 11.3800 - val_mae: 2.8386\n",
      "Epoch 5/100\n",
      "\u001b[1m302/302\u001b[0m \u001b[32m━━━━━━━━━━━━━━━━━━━━\u001b[0m\u001b[37m\u001b[0m \u001b[1m0s\u001b[0m 928us/step - loss: 11.5947 - mae: 2.8410 - val_loss: 11.3249 - val_mae: 2.8285\n",
      "Epoch 6/100\n",
      "\u001b[1m302/302\u001b[0m \u001b[32m━━━━━━━━━━━━━━━━━━━━\u001b[0m\u001b[37m\u001b[0m \u001b[1m0s\u001b[0m 916us/step - loss: 11.5251 - mae: 2.8306 - val_loss: 11.0660 - val_mae: 2.7903\n",
      "Epoch 7/100\n",
      "\u001b[1m302/302\u001b[0m \u001b[32m━━━━━━━━━━━━━━━━━━━━\u001b[0m\u001b[37m\u001b[0m \u001b[1m0s\u001b[0m 959us/step - loss: 11.4898 - mae: 2.8231 - val_loss: 11.4132 - val_mae: 2.7192\n",
      "Epoch 8/100\n",
      "\u001b[1m302/302\u001b[0m \u001b[32m━━━━━━━━━━━━━━━━━━━━\u001b[0m\u001b[37m\u001b[0m \u001b[1m0s\u001b[0m 1ms/step - loss: 11.6115 - mae: 2.8248 - val_loss: 11.2170 - val_mae: 2.6998\n",
      "Epoch 9/100\n",
      "\u001b[1m302/302\u001b[0m \u001b[32m━━━━━━━━━━━━━━━━━━━━\u001b[0m\u001b[37m\u001b[0m \u001b[1m0s\u001b[0m 929us/step - loss: 11.3499 - mae: 2.7844 - val_loss: 10.6775 - val_mae: 2.7035\n",
      "Epoch 10/100\n",
      "\u001b[1m302/302\u001b[0m \u001b[32m━━━━━━━━━━━━━━━━━━━━\u001b[0m\u001b[37m\u001b[0m \u001b[1m0s\u001b[0m 964us/step - loss: 11.0729 - mae: 2.7464 - val_loss: 10.4731 - val_mae: 2.7024\n",
      "Epoch 11/100\n",
      "\u001b[1m302/302\u001b[0m \u001b[32m━━━━━━━━━━━━━━━━━━━━\u001b[0m\u001b[37m\u001b[0m \u001b[1m0s\u001b[0m 984us/step - loss: 10.9204 - mae: 2.7220 - val_loss: 10.6535 - val_mae: 2.7005\n",
      "Epoch 12/100\n",
      "\u001b[1m302/302\u001b[0m \u001b[32m━━━━━━━━━━━━━━━━━━━━\u001b[0m\u001b[37m\u001b[0m \u001b[1m0s\u001b[0m 991us/step - loss: 10.7759 - mae: 2.6992 - val_loss: 10.0808 - val_mae: 2.5953\n",
      "Epoch 13/100\n",
      "\u001b[1m302/302\u001b[0m \u001b[32m━━━━━━━━━━━━━━━━━━━━\u001b[0m\u001b[37m\u001b[0m \u001b[1m0s\u001b[0m 987us/step - loss: 10.6554 - mae: 2.6732 - val_loss: 10.3002 - val_mae: 2.5203\n",
      "Epoch 14/100\n",
      "\u001b[1m302/302\u001b[0m \u001b[32m━━━━━━━━━━━━━━━━━━━━\u001b[0m\u001b[37m\u001b[0m \u001b[1m0s\u001b[0m 950us/step - loss: 10.4696 - mae: 2.6406 - val_loss: 9.7421 - val_mae: 2.4842\n",
      "Epoch 15/100\n",
      "\u001b[1m302/302\u001b[0m \u001b[32m━━━━━━━━━━━━━━━━━━━━\u001b[0m\u001b[37m\u001b[0m \u001b[1m0s\u001b[0m 1ms/step - loss: 10.3662 - mae: 2.6197 - val_loss: 10.5904 - val_mae: 2.5523\n",
      "Epoch 16/100\n",
      "\u001b[1m302/302\u001b[0m \u001b[32m━━━━━━━━━━━━━━━━━━━━\u001b[0m\u001b[37m\u001b[0m \u001b[1m0s\u001b[0m 1ms/step - loss: 10.1452 - mae: 2.5829 - val_loss: 10.2628 - val_mae: 2.4854\n",
      "Epoch 17/100\n",
      "\u001b[1m302/302\u001b[0m \u001b[32m━━━━━━━━━━━━━━━━━━━━\u001b[0m\u001b[37m\u001b[0m \u001b[1m0s\u001b[0m 1ms/step - loss: 9.7292 - mae: 2.5118 - val_loss: 8.7877 - val_mae: 2.2931\n",
      "Epoch 18/100\n",
      "\u001b[1m302/302\u001b[0m \u001b[32m━━━━━━━━━━━━━━━━━━━━\u001b[0m\u001b[37m\u001b[0m \u001b[1m0s\u001b[0m 1ms/step - loss: 9.2017 - mae: 2.4153 - val_loss: 8.0912 - val_mae: 2.2427\n",
      "Epoch 19/100\n",
      "\u001b[1m302/302\u001b[0m \u001b[32m━━━━━━━━━━━━━━━━━━━━\u001b[0m\u001b[37m\u001b[0m \u001b[1m0s\u001b[0m 1ms/step - loss: 8.6492 - mae: 2.3171 - val_loss: 8.1339 - val_mae: 2.1333\n",
      "Epoch 20/100\n",
      "\u001b[1m302/302\u001b[0m \u001b[32m━━━━━━━━━━━━━━━━━━━━\u001b[0m\u001b[37m\u001b[0m \u001b[1m0s\u001b[0m 987us/step - loss: 8.0924 - mae: 2.2160 - val_loss: 7.2498 - val_mae: 2.1069\n",
      "Epoch 21/100\n",
      "\u001b[1m302/302\u001b[0m \u001b[32m━━━━━━━━━━━━━━━━━━━━\u001b[0m\u001b[37m\u001b[0m \u001b[1m0s\u001b[0m 934us/step - loss: 7.7030 - mae: 2.1298 - val_loss: 6.8421 - val_mae: 2.0029\n",
      "Epoch 22/100\n",
      "\u001b[1m302/302\u001b[0m \u001b[32m━━━━━━━━━━━━━━━━━━━━\u001b[0m\u001b[37m\u001b[0m \u001b[1m0s\u001b[0m 959us/step - loss: 7.0794 - mae: 2.0132 - val_loss: 6.6659 - val_mae: 1.8817\n",
      "Epoch 23/100\n",
      "\u001b[1m302/302\u001b[0m \u001b[32m━━━━━━━━━━━━━━━━━━━━\u001b[0m\u001b[37m\u001b[0m \u001b[1m0s\u001b[0m 974us/step - loss: 6.7466 - mae: 1.9290 - val_loss: 6.2043 - val_mae: 1.8383\n",
      "Epoch 24/100\n",
      "\u001b[1m302/302\u001b[0m \u001b[32m━━━━━━━━━━━━━━━━━━━━\u001b[0m\u001b[37m\u001b[0m \u001b[1m0s\u001b[0m 992us/step - loss: 6.1648 - mae: 1.8146 - val_loss: 5.7484 - val_mae: 1.7100\n",
      "Epoch 25/100\n",
      "\u001b[1m302/302\u001b[0m \u001b[32m━━━━━━━━━━━━━━━━━━━━\u001b[0m\u001b[37m\u001b[0m \u001b[1m0s\u001b[0m 1ms/step - loss: 5.8101 - mae: 1.7335 - val_loss: 5.4496 - val_mae: 1.6715\n",
      "Epoch 26/100\n",
      "\u001b[1m302/302\u001b[0m \u001b[32m━━━━━━━━━━━━━━━━━━━━\u001b[0m\u001b[37m\u001b[0m \u001b[1m0s\u001b[0m 1ms/step - loss: 15.5594 - mae: 1.8043 - val_loss: 6.6310 - val_mae: 1.8598\n",
      "Epoch 27/100\n",
      "\u001b[1m302/302\u001b[0m \u001b[32m━━━━━━━━━━━━━━━━━━━━\u001b[0m\u001b[37m\u001b[0m \u001b[1m0s\u001b[0m 1ms/step - loss: 6.6114 - mae: 1.8516 - val_loss: 6.1890 - val_mae: 1.7259\n",
      "Epoch 28/100\n",
      "\u001b[1m302/302\u001b[0m \u001b[32m━━━━━━━━━━━━━━━━━━━━\u001b[0m\u001b[37m\u001b[0m \u001b[1m0s\u001b[0m 1ms/step - loss: 6.1590 - mae: 1.7143 - val_loss: 5.7799 - val_mae: 1.5904\n",
      "Epoch 29/100\n",
      "\u001b[1m302/302\u001b[0m \u001b[32m━━━━━━━━━━━━━━━━━━━━\u001b[0m\u001b[37m\u001b[0m \u001b[1m0s\u001b[0m 962us/step - loss: 5.7481 - mae: 1.6110 - val_loss: 5.4162 - val_mae: 1.5901\n",
      "Epoch 30/100\n",
      "\u001b[1m302/302\u001b[0m \u001b[32m━━━━━━━━━━━━━━━━━━━━\u001b[0m\u001b[37m\u001b[0m \u001b[1m0s\u001b[0m 1ms/step - loss: 5.3837 - mae: 1.6061 - val_loss: 5.1019 - val_mae: 1.5898\n",
      "Epoch 31/100\n",
      "\u001b[1m302/302\u001b[0m \u001b[32m━━━━━━━━━━━━━━━━━━━━\u001b[0m\u001b[37m\u001b[0m \u001b[1m0s\u001b[0m 1ms/step - loss: 5.0695 - mae: 1.6013 - val_loss: 4.8386 - val_mae: 1.5894\n",
      "Epoch 32/100\n",
      "\u001b[1m302/302\u001b[0m \u001b[32m━━━━━━━━━━━━━━━━━━━━\u001b[0m\u001b[37m\u001b[0m \u001b[1m0s\u001b[0m 1ms/step - loss: 4.8067 - mae: 1.5967 - val_loss: 4.6256 - val_mae: 1.5891\n",
      "Epoch 33/100\n",
      "\u001b[1m302/302\u001b[0m \u001b[32m━━━━━━━━━━━━━━━━━━━━\u001b[0m\u001b[37m\u001b[0m \u001b[1m0s\u001b[0m 977us/step - loss: 4.5943 - mae: 1.5923 - val_loss: 4.4602 - val_mae: 1.5889\n",
      "Epoch 34/100\n",
      "\u001b[1m302/302\u001b[0m \u001b[32m━━━━━━━━━━━━━━━━━━━━\u001b[0m\u001b[37m\u001b[0m \u001b[1m0s\u001b[0m 1ms/step - loss: 4.4292 - mae: 1.5882 - val_loss: 4.3377 - val_mae: 1.5886\n",
      "Epoch 35/100\n",
      "\u001b[1m302/302\u001b[0m \u001b[32m━━━━━━━━━━━━━━━━━━━━\u001b[0m\u001b[37m\u001b[0m \u001b[1m0s\u001b[0m 996us/step - loss: 4.3065 - mae: 1.5845 - val_loss: 4.2519 - val_mae: 1.5884\n",
      "Epoch 36/100\n",
      "\u001b[1m302/302\u001b[0m \u001b[32m━━━━━━━━━━━━━━━━━━━━\u001b[0m\u001b[37m\u001b[0m \u001b[1m0s\u001b[0m 1ms/step - loss: 4.2198 - mae: 1.5811 - val_loss: 4.1959 - val_mae: 1.5882\n",
      "Epoch 37/100\n",
      "\u001b[1m302/302\u001b[0m \u001b[32m━━━━━━━━━━━━━━━━━━━━\u001b[0m\u001b[37m\u001b[0m \u001b[1m0s\u001b[0m 1ms/step - loss: 4.1623 - mae: 1.5782 - val_loss: 4.1623 - val_mae: 1.5880\n",
      "Epoch 38/100\n",
      "\u001b[1m302/302\u001b[0m \u001b[32m━━━━━━━━━━━━━━━━━━━━\u001b[0m\u001b[37m\u001b[0m \u001b[1m0s\u001b[0m 1ms/step - loss: 4.1266 - mae: 1.5758 - val_loss: 4.1443 - val_mae: 1.5878\n",
      "Epoch 39/100\n",
      "\u001b[1m302/302\u001b[0m \u001b[32m━━━━━━━━━━━━━━━━━━━━\u001b[0m\u001b[37m\u001b[0m \u001b[1m0s\u001b[0m 1ms/step - loss: 4.1064 - mae: 1.5738 - val_loss: 4.1362 - val_mae: 1.5877\n",
      "Epoch 40/100\n",
      "\u001b[1m302/302\u001b[0m \u001b[32m━━━━━━━━━━━━━━━━━━━━\u001b[0m\u001b[37m\u001b[0m \u001b[1m0s\u001b[0m 1ms/step - loss: 4.0959 - mae: 1.5723 - val_loss: 4.1335 - val_mae: 1.5877\n",
      "Epoch 41/100\n",
      "\u001b[1m302/302\u001b[0m \u001b[32m━━━━━━━━━━━━━━━━━━━━\u001b[0m\u001b[37m\u001b[0m \u001b[1m0s\u001b[0m 1ms/step - loss: 4.0911 - mae: 1.5712 - val_loss: 4.1332 - val_mae: 1.5876\n",
      "Epoch 42/100\n",
      "\u001b[1m302/302\u001b[0m \u001b[32m━━━━━━━━━━━━━━━━━━━━\u001b[0m\u001b[37m\u001b[0m \u001b[1m0s\u001b[0m 1ms/step - loss: 4.0892 - mae: 1.5705 - val_loss: 4.1338 - val_mae: 1.5876\n",
      "Epoch 43/100\n",
      "\u001b[1m302/302\u001b[0m \u001b[32m━━━━━━━━━━━━━━━━━━━━\u001b[0m\u001b[37m\u001b[0m \u001b[1m0s\u001b[0m 1ms/step - loss: 4.0886 - mae: 1.5700 - val_loss: 4.1345 - val_mae: 1.5875\n",
      "Epoch 44/100\n",
      "\u001b[1m302/302\u001b[0m \u001b[32m━━━━━━━━━━━━━━━━━━━━\u001b[0m\u001b[37m\u001b[0m \u001b[1m0s\u001b[0m 1ms/step - loss: 4.0885 - mae: 1.5697 - val_loss: 4.1350 - val_mae: 1.5875\n",
      "Epoch 45/100\n",
      "\u001b[1m302/302\u001b[0m \u001b[32m━━━━━━━━━━━━━━━━━━━━\u001b[0m\u001b[37m\u001b[0m \u001b[1m0s\u001b[0m 1ms/step - loss: 4.0885 - mae: 1.5695 - val_loss: 4.1353 - val_mae: 1.5875\n",
      "Epoch 46/100\n",
      "\u001b[1m302/302\u001b[0m \u001b[32m━━━━━━━━━━━━━━━━━━━━\u001b[0m\u001b[37m\u001b[0m \u001b[1m0s\u001b[0m 1ms/step - loss: 4.0885 - mae: 1.5694 - val_loss: 4.1355 - val_mae: 1.5875\n",
      "Epoch 47/100\n",
      "\u001b[1m302/302\u001b[0m \u001b[32m━━━━━━━━━━━━━━━━━━━━\u001b[0m\u001b[37m\u001b[0m \u001b[1m0s\u001b[0m 1ms/step - loss: 4.0886 - mae: 1.5693 - val_loss: 4.1356 - val_mae: 1.5875\n",
      "Epoch 48/100\n",
      "\u001b[1m302/302\u001b[0m \u001b[32m━━━━━━━━━━━━━━━━━━━━\u001b[0m\u001b[37m\u001b[0m \u001b[1m0s\u001b[0m 1ms/step - loss: 4.0886 - mae: 1.5693 - val_loss: 4.1356 - val_mae: 1.5875\n",
      "Epoch 49/100\n",
      "\u001b[1m302/302\u001b[0m \u001b[32m━━━━━━━━━━━━━━━━━━━━\u001b[0m\u001b[37m\u001b[0m \u001b[1m0s\u001b[0m 1ms/step - loss: 4.0886 - mae: 1.5693 - val_loss: 4.1356 - val_mae: 1.5875\n",
      "Epoch 50/100\n",
      "\u001b[1m302/302\u001b[0m \u001b[32m━━━━━━━━━━━━━━━━━━━━\u001b[0m\u001b[37m\u001b[0m \u001b[1m0s\u001b[0m 1ms/step - loss: 4.0886 - mae: 1.5693 - val_loss: 4.1356 - val_mae: 1.5875\n",
      "Epoch 51/100\n",
      "\u001b[1m302/302\u001b[0m \u001b[32m━━━━━━━━━━━━━━━━━━━━\u001b[0m\u001b[37m\u001b[0m \u001b[1m0s\u001b[0m 1ms/step - loss: 4.0886 - mae: 1.5693 - val_loss: 4.1356 - val_mae: 1.5875\n",
      "Epoch 52/100\n",
      "\u001b[1m302/302\u001b[0m \u001b[32m━━━━━━━━━━━━━━━━━━━━\u001b[0m\u001b[37m\u001b[0m \u001b[1m0s\u001b[0m 979us/step - loss: 4.0886 - mae: 1.5693 - val_loss: 4.1356 - val_mae: 1.5875\n",
      "Epoch 53/100\n",
      "\u001b[1m302/302\u001b[0m \u001b[32m━━━━━━━━━━━━━━━━━━━━\u001b[0m\u001b[37m\u001b[0m \u001b[1m0s\u001b[0m 1ms/step - loss: 4.0886 - mae: 1.5693 - val_loss: 4.1356 - val_mae: 1.5875\n",
      "Epoch 54/100\n",
      "\u001b[1m302/302\u001b[0m \u001b[32m━━━━━━━━━━━━━━━━━━━━\u001b[0m\u001b[37m\u001b[0m \u001b[1m0s\u001b[0m 1ms/step - loss: 4.0886 - mae: 1.5693 - val_loss: 4.1356 - val_mae: 1.5875\n",
      "Epoch 55/100\n",
      "\u001b[1m302/302\u001b[0m \u001b[32m━━━━━━━━━━━━━━━━━━━━\u001b[0m\u001b[37m\u001b[0m \u001b[1m0s\u001b[0m 1ms/step - loss: 4.0886 - mae: 1.5693 - val_loss: 4.1356 - val_mae: 1.5875\n",
      "Epoch 56/100\n",
      "\u001b[1m302/302\u001b[0m \u001b[32m━━━━━━━━━━━━━━━━━━━━\u001b[0m\u001b[37m\u001b[0m \u001b[1m0s\u001b[0m 1ms/step - loss: 4.0886 - mae: 1.5693 - val_loss: 4.1356 - val_mae: 1.5875\n",
      "Epoch 57/100\n",
      "\u001b[1m302/302\u001b[0m \u001b[32m━━━━━━━━━━━━━━━━━━━━\u001b[0m\u001b[37m\u001b[0m \u001b[1m0s\u001b[0m 1ms/step - loss: 4.0886 - mae: 1.5693 - val_loss: 4.1356 - val_mae: 1.5875\n",
      "Epoch 58/100\n",
      "\u001b[1m302/302\u001b[0m \u001b[32m━━━━━━━━━━━━━━━━━━━━\u001b[0m\u001b[37m\u001b[0m \u001b[1m0s\u001b[0m 1ms/step - loss: 4.0886 - mae: 1.5693 - val_loss: 4.1356 - val_mae: 1.5875\n",
      "Epoch 59/100\n",
      "\u001b[1m302/302\u001b[0m \u001b[32m━━━━━━━━━━━━━━━━━━━━\u001b[0m\u001b[37m\u001b[0m \u001b[1m0s\u001b[0m 977us/step - loss: 4.0886 - mae: 1.5693 - val_loss: 4.1356 - val_mae: 1.5875\n",
      "Epoch 60/100\n",
      "\u001b[1m302/302\u001b[0m \u001b[32m━━━━━━━━━━━━━━━━━━━━\u001b[0m\u001b[37m\u001b[0m \u001b[1m0s\u001b[0m 996us/step - loss: 4.0886 - mae: 1.5693 - val_loss: 4.1356 - val_mae: 1.5875\n",
      "Epoch 61/100\n",
      "\u001b[1m302/302\u001b[0m \u001b[32m━━━━━━━━━━━━━━━━━━━━\u001b[0m\u001b[37m\u001b[0m \u001b[1m0s\u001b[0m 1ms/step - loss: 4.0886 - mae: 1.5693 - val_loss: 4.1356 - val_mae: 1.5875\n",
      "Epoch 62/100\n",
      "\u001b[1m302/302\u001b[0m \u001b[32m━━━━━━━━━━━━━━━━━━━━\u001b[0m\u001b[37m\u001b[0m \u001b[1m0s\u001b[0m 1ms/step - loss: 4.0886 - mae: 1.5693 - val_loss: 4.1356 - val_mae: 1.5875\n",
      "Epoch 63/100\n",
      "\u001b[1m302/302\u001b[0m \u001b[32m━━━━━━━━━━━━━━━━━━━━\u001b[0m\u001b[37m\u001b[0m \u001b[1m0s\u001b[0m 1ms/step - loss: 4.0886 - mae: 1.5693 - val_loss: 4.1356 - val_mae: 1.5875\n",
      "Epoch 64/100\n",
      "\u001b[1m302/302\u001b[0m \u001b[32m━━━━━━━━━━━━━━━━━━━━\u001b[0m\u001b[37m\u001b[0m \u001b[1m0s\u001b[0m 985us/step - loss: 4.0886 - mae: 1.5693 - val_loss: 4.1356 - val_mae: 1.5875\n",
      "Epoch 65/100\n",
      "\u001b[1m302/302\u001b[0m \u001b[32m━━━━━━━━━━━━━━━━━━━━\u001b[0m\u001b[37m\u001b[0m \u001b[1m0s\u001b[0m 1ms/step - loss: 4.0886 - mae: 1.5693 - val_loss: 4.1356 - val_mae: 1.5875\n",
      "Epoch 66/100\n",
      "\u001b[1m302/302\u001b[0m \u001b[32m━━━━━━━━━━━━━━━━━━━━\u001b[0m\u001b[37m\u001b[0m \u001b[1m0s\u001b[0m 993us/step - loss: 4.0886 - mae: 1.5693 - val_loss: 4.1356 - val_mae: 1.5875\n",
      "Epoch 67/100\n",
      "\u001b[1m302/302\u001b[0m \u001b[32m━━━━━━━━━━━━━━━━━━━━\u001b[0m\u001b[37m\u001b[0m \u001b[1m0s\u001b[0m 989us/step - loss: 4.0886 - mae: 1.5693 - val_loss: 4.1356 - val_mae: 1.5875\n",
      "Epoch 68/100\n",
      "\u001b[1m302/302\u001b[0m \u001b[32m━━━━━━━━━━━━━━━━━━━━\u001b[0m\u001b[37m\u001b[0m \u001b[1m0s\u001b[0m 987us/step - loss: 4.0886 - mae: 1.5693 - val_loss: 4.1356 - val_mae: 1.5875\n",
      "Epoch 69/100\n",
      "\u001b[1m302/302\u001b[0m \u001b[32m━━━━━━━━━━━━━━━━━━━━\u001b[0m\u001b[37m\u001b[0m \u001b[1m0s\u001b[0m 1000us/step - loss: 4.0886 - mae: 1.5693 - val_loss: 4.1356 - val_mae: 1.5875\n",
      "Epoch 70/100\n",
      "\u001b[1m302/302\u001b[0m \u001b[32m━━━━━━━━━━━━━━━━━━━━\u001b[0m\u001b[37m\u001b[0m \u001b[1m0s\u001b[0m 993us/step - loss: 4.0886 - mae: 1.5693 - val_loss: 4.1356 - val_mae: 1.5875\n",
      "Epoch 71/100\n",
      "\u001b[1m302/302\u001b[0m \u001b[32m━━━━━━━━━━━━━━━━━━━━\u001b[0m\u001b[37m\u001b[0m \u001b[1m0s\u001b[0m 976us/step - loss: 4.0886 - mae: 1.5693 - val_loss: 4.1356 - val_mae: 1.5875\n",
      "Epoch 72/100\n",
      "\u001b[1m302/302\u001b[0m \u001b[32m━━━━━━━━━━━━━━━━━━━━\u001b[0m\u001b[37m\u001b[0m \u001b[1m0s\u001b[0m 986us/step - loss: 4.0886 - mae: 1.5693 - val_loss: 4.1356 - val_mae: 1.5875\n",
      "Epoch 73/100\n",
      "\u001b[1m302/302\u001b[0m \u001b[32m━━━━━━━━━━━━━━━━━━━━\u001b[0m\u001b[37m\u001b[0m \u001b[1m0s\u001b[0m 1ms/step - loss: 4.0886 - mae: 1.5693 - val_loss: 4.1356 - val_mae: 1.5875\n",
      "Epoch 74/100\n",
      "\u001b[1m302/302\u001b[0m \u001b[32m━━━━━━━━━━━━━━━━━━━━\u001b[0m\u001b[37m\u001b[0m \u001b[1m0s\u001b[0m 991us/step - loss: 4.0886 - mae: 1.5693 - val_loss: 4.1356 - val_mae: 1.5875\n",
      "Epoch 75/100\n",
      "\u001b[1m302/302\u001b[0m \u001b[32m━━━━━━━━━━━━━━━━━━━━\u001b[0m\u001b[37m\u001b[0m \u001b[1m0s\u001b[0m 975us/step - loss: 4.0886 - mae: 1.5693 - val_loss: 4.1356 - val_mae: 1.5875\n",
      "Epoch 76/100\n",
      "\u001b[1m302/302\u001b[0m \u001b[32m━━━━━━━━━━━━━━━━━━━━\u001b[0m\u001b[37m\u001b[0m \u001b[1m0s\u001b[0m 948us/step - loss: 4.0886 - mae: 1.5693 - val_loss: 4.1356 - val_mae: 1.5875\n",
      "Epoch 77/100\n",
      "\u001b[1m302/302\u001b[0m \u001b[32m━━━━━━━━━━━━━━━━━━━━\u001b[0m\u001b[37m\u001b[0m \u001b[1m0s\u001b[0m 980us/step - loss: 4.0886 - mae: 1.5693 - val_loss: 4.1356 - val_mae: 1.5875\n",
      "Epoch 78/100\n",
      "\u001b[1m302/302\u001b[0m \u001b[32m━━━━━━━━━━━━━━━━━━━━\u001b[0m\u001b[37m\u001b[0m \u001b[1m0s\u001b[0m 983us/step - loss: 4.0886 - mae: 1.5693 - val_loss: 4.1356 - val_mae: 1.5875\n",
      "Epoch 79/100\n",
      "\u001b[1m302/302\u001b[0m \u001b[32m━━━━━━━━━━━━━━━━━━━━\u001b[0m\u001b[37m\u001b[0m \u001b[1m0s\u001b[0m 986us/step - loss: 4.0887 - mae: 1.5693 - val_loss: 4.1356 - val_mae: 1.5875\n",
      "Epoch 80/100\n",
      "\u001b[1m302/302\u001b[0m \u001b[32m━━━━━━━━━━━━━━━━━━━━\u001b[0m\u001b[37m\u001b[0m \u001b[1m0s\u001b[0m 994us/step - loss: 4.0887 - mae: 1.5693 - val_loss: 4.1356 - val_mae: 1.5875\n",
      "Epoch 81/100\n",
      "\u001b[1m302/302\u001b[0m \u001b[32m━━━━━━━━━━━━━━━━━━━━\u001b[0m\u001b[37m\u001b[0m \u001b[1m0s\u001b[0m 1ms/step - loss: 4.0887 - mae: 1.5693 - val_loss: 4.1356 - val_mae: 1.5875\n",
      "Epoch 82/100\n",
      "\u001b[1m302/302\u001b[0m \u001b[32m━━━━━━━━━━━━━━━━━━━━\u001b[0m\u001b[37m\u001b[0m \u001b[1m0s\u001b[0m 971us/step - loss: 4.0887 - mae: 1.5693 - val_loss: 4.1356 - val_mae: 1.5875\n",
      "Epoch 83/100\n",
      "\u001b[1m302/302\u001b[0m \u001b[32m━━━━━━━━━━━━━━━━━━━━\u001b[0m\u001b[37m\u001b[0m \u001b[1m0s\u001b[0m 1ms/step - loss: 4.0887 - mae: 1.5693 - val_loss: 4.1355 - val_mae: 1.5875\n",
      "Epoch 84/100\n",
      "\u001b[1m302/302\u001b[0m \u001b[32m━━━━━━━━━━━━━━━━━━━━\u001b[0m\u001b[37m\u001b[0m \u001b[1m0s\u001b[0m 989us/step - loss: 4.0887 - mae: 1.5693 - val_loss: 4.1355 - val_mae: 1.5875\n",
      "Epoch 85/100\n",
      "\u001b[1m302/302\u001b[0m \u001b[32m━━━━━━━━━━━━━━━━━━━━\u001b[0m\u001b[37m\u001b[0m \u001b[1m0s\u001b[0m 997us/step - loss: 4.0887 - mae: 1.5693 - val_loss: 4.1355 - val_mae: 1.5875\n",
      "Epoch 86/100\n",
      "\u001b[1m302/302\u001b[0m \u001b[32m━━━━━━━━━━━━━━━━━━━━\u001b[0m\u001b[37m\u001b[0m \u001b[1m0s\u001b[0m 964us/step - loss: 4.0887 - mae: 1.5693 - val_loss: 4.1355 - val_mae: 1.5875\n",
      "Epoch 87/100\n",
      "\u001b[1m302/302\u001b[0m \u001b[32m━━━━━━━━━━━━━━━━━━━━\u001b[0m\u001b[37m\u001b[0m \u001b[1m0s\u001b[0m 968us/step - loss: 4.0887 - mae: 1.5693 - val_loss: 4.1355 - val_mae: 1.5875\n",
      "Epoch 88/100\n",
      "\u001b[1m302/302\u001b[0m \u001b[32m━━━━━━━━━━━━━━━━━━━━\u001b[0m\u001b[37m\u001b[0m \u001b[1m0s\u001b[0m 968us/step - loss: 4.0887 - mae: 1.5693 - val_loss: 4.1355 - val_mae: 1.5875\n",
      "Epoch 89/100\n",
      "\u001b[1m302/302\u001b[0m \u001b[32m━━━━━━━━━━━━━━━━━━━━\u001b[0m\u001b[37m\u001b[0m \u001b[1m0s\u001b[0m 999us/step - loss: 4.0888 - mae: 1.5693 - val_loss: 4.1354 - val_mae: 1.5875\n",
      "Epoch 90/100\n",
      "\u001b[1m302/302\u001b[0m \u001b[32m━━━━━━━━━━━━━━━━━━━━\u001b[0m\u001b[37m\u001b[0m \u001b[1m0s\u001b[0m 979us/step - loss: 4.0888 - mae: 1.5693 - val_loss: 4.1354 - val_mae: 1.5875\n",
      "Epoch 91/100\n",
      "\u001b[1m302/302\u001b[0m \u001b[32m━━━━━━━━━━━━━━━━━━━━\u001b[0m\u001b[37m\u001b[0m \u001b[1m0s\u001b[0m 992us/step - loss: 4.0888 - mae: 1.5693 - val_loss: 4.1354 - val_mae: 1.5875\n",
      "Epoch 92/100\n",
      "\u001b[1m302/302\u001b[0m \u001b[32m━━━━━━━━━━━━━━━━━━━━\u001b[0m\u001b[37m\u001b[0m \u001b[1m0s\u001b[0m 973us/step - loss: 4.0888 - mae: 1.5693 - val_loss: 4.1353 - val_mae: 1.5875\n",
      "Epoch 93/100\n",
      "\u001b[1m302/302\u001b[0m \u001b[32m━━━━━━━━━━━━━━━━━━━━\u001b[0m\u001b[37m\u001b[0m \u001b[1m0s\u001b[0m 989us/step - loss: 4.0888 - mae: 1.5694 - val_loss: 4.1353 - val_mae: 1.5875\n",
      "Epoch 94/100\n",
      "\u001b[1m302/302\u001b[0m \u001b[32m━━━━━━━━━━━━━━━━━━━━\u001b[0m\u001b[37m\u001b[0m \u001b[1m0s\u001b[0m 997us/step - loss: 4.0889 - mae: 1.5694 - val_loss: 4.1352 - val_mae: 1.5875\n",
      "Epoch 95/100\n",
      "\u001b[1m302/302\u001b[0m \u001b[32m━━━━━━━━━━━━━━━━━━━━\u001b[0m\u001b[37m\u001b[0m \u001b[1m0s\u001b[0m 997us/step - loss: 4.0889 - mae: 1.5694 - val_loss: 4.1352 - val_mae: 1.5875\n",
      "Epoch 96/100\n",
      "\u001b[1m302/302\u001b[0m \u001b[32m━━━━━━━━━━━━━━━━━━━━\u001b[0m\u001b[37m\u001b[0m \u001b[1m0s\u001b[0m 978us/step - loss: 4.0889 - mae: 1.5694 - val_loss: 4.1351 - val_mae: 1.5875\n",
      "Epoch 97/100\n",
      "\u001b[1m302/302\u001b[0m \u001b[32m━━━━━━━━━━━━━━━━━━━━\u001b[0m\u001b[37m\u001b[0m \u001b[1m0s\u001b[0m 996us/step - loss: 4.0889 - mae: 1.5694 - val_loss: 4.1351 - val_mae: 1.5875\n",
      "Epoch 98/100\n",
      "\u001b[1m302/302\u001b[0m \u001b[32m━━━━━━━━━━━━━━━━━━━━\u001b[0m\u001b[37m\u001b[0m \u001b[1m0s\u001b[0m 964us/step - loss: 4.0890 - mae: 1.5694 - val_loss: 4.1351 - val_mae: 1.5875\n",
      "Epoch 99/100\n",
      "\u001b[1m302/302\u001b[0m \u001b[32m━━━━━━━━━━━━━━━━━━━━\u001b[0m\u001b[37m\u001b[0m \u001b[1m0s\u001b[0m 998us/step - loss: 4.0890 - mae: 1.5694 - val_loss: 4.1350 - val_mae: 1.5875\n",
      "Epoch 100/100\n",
      "\u001b[1m302/302\u001b[0m \u001b[32m━━━━━━━━━━━━━━━━━━━━\u001b[0m\u001b[37m\u001b[0m \u001b[1m0s\u001b[0m 992us/step - loss: 4.0890 - mae: 1.5694 - val_loss: 4.1350 - val_mae: 1.5875\n",
      "\u001b[1m134/134\u001b[0m \u001b[32m━━━━━━━━━━━━━━━━━━━━\u001b[0m\u001b[37m\u001b[0m \u001b[1m0s\u001b[0m 808us/step\n"
     ]
    }
   ],
   "source": [
    "from keras.models import Sequential\n",
    "from keras.layers import Dense\n",
    "\n",
    "mlp = Sequential()\n",
    "mlp.add(Dense(units=8, kernel_initializer='uniform', activation = 'relu', input_dim = 5))\n",
    "mlp.add(Dense(units=16, kernel_initializer='uniform', activation = 'relu'))\n",
    "mlp.add(Dense(units=32, kernel_initializer='uniform', activation = 'relu'))\n",
    "mlp.add(Dense(units=16, kernel_initializer='uniform', activation = 'relu'))\n",
    "mlp.add(Dense(units=8, kernel_initializer='uniform', activation = 'relu'))\n",
    "mlp.add(Dense(units=1, kernel_initializer='uniform', activation = 'linear'))\n",
    "\n",
    "mlp.compile(optimizer = 'adam', loss =  'mean_squared_error' , metrics = ['mae'] )\n",
    "mlp.fit(X_train, y_train,epochs=100, batch_size=32, validation_split=0.25)\n",
    "\n",
    "y_pred = mlp.predict(X_test)"
   ]
  },
  {
   "cell_type": "code",
   "execution_count": 220,
   "id": "c2dc8e3a",
   "metadata": {},
   "outputs": [
    {
     "data": {
      "image/png": "[encoded data removed]",
      "text/plain": [
       "<Figure size 2160x1728 with 1 Axes>"
      ]
     },
     "metadata": {
      "needs_background": "light"
     },
     "output_type": "display_data"
    }
   ],
   "source": [
    "import pandas as pd\n",
    "import seaborn as sns\n",
    "import matplotlib.pyplot as plt\n",
    "\n",
    "# result_df isminde bir DataFrame oluşturulduğunu varsayalım\n",
    "result_df = pd.DataFrame({'Gerçek Değerler': y_test.flatten(), 'Tahmin Edilen Değerler': y_pred.flatten()})\n",
    "\n",
    "# Scatter plot ve yoğunluk grafiği çizimi\n",
    "plt.figure(figsize=(30, 24))\n",
    "\n",
    "# Scatter plot\n",
    "sns.scatterplot(x='Gerçek Değerler', y='Tahmin Edilen Değerler', data=result_df, palette='viridis', edgecolor='w', alpha=0.7)\n",
    "\n",
    "# Gerçek değerlerin yoğunluk grafiği\n",
    "sns.kdeplot(result_df['Gerçek Değerler'], label='Gerçek Değerler', color='blue', shade=True)\n",
    "\n",
    "# Tahmin edilen değerlerin yoğunluk grafiği\n",
    "sns.kdeplot(result_df['Tahmin Edilen Değerler'], label='Tahmin Edilen Değerler', color='orange', shade=True)\n",
    "\n",
    "plt.title('Gerçek vs. Tahmin Edilen Değerler')\n",
    "plt.xlabel('Gerçek Değerler')\n",
    "plt.ylabel('Tahmin Edilen Değerler')\n",
    "\n",
    "plt.legend()\n",
    "plt.show()"
   ]
  },
  {
   "cell_type": "code",
   "execution_count": 221,
   "id": "9420ed56",
   "metadata": {
    "scrolled": true
   },
   "outputs": [
    {
     "name": "stdout",
     "output_type": "stream",
     "text": [
      "Epoch 1/50\n",
      "\u001b[1m362/362\u001b[0m \u001b[32m━━━━━━━━━━━━━━━━━━━━\u001b[0m\u001b[37m\u001b[0m \u001b[1m0s\u001b[0m 961us/step - loss: 4.2288 - mae: 1.5999 - val_loss: 4.0260 - val_mae: 1.5697\n",
      "Epoch 2/50\n",
      "\u001b[1m362/362\u001b[0m \u001b[32m━━━━━━━━━━━━━━━━━━━━\u001b[0m\u001b[37m\u001b[0m \u001b[1m0s\u001b[0m 852us/step - loss: 4.2284 - mae: 1.6000 - val_loss: 4.0260 - val_mae: 1.5697\n",
      "Epoch 3/50\n",
      "\u001b[1m362/362\u001b[0m \u001b[32m━━━━━━━━━━━━━━━━━━━━\u001b[0m\u001b[37m\u001b[0m \u001b[1m0s\u001b[0m 852us/step - loss: 4.2285 - mae: 1.6001 - val_loss: 4.0260 - val_mae: 1.5697\n",
      "Epoch 4/50\n",
      "\u001b[1m362/362\u001b[0m \u001b[32m━━━━━━━━━━━━━━━━━━━━\u001b[0m\u001b[37m\u001b[0m \u001b[1m0s\u001b[0m 884us/step - loss: 4.2285 - mae: 1.6001 - val_loss: 4.0260 - val_mae: 1.5697\n",
      "Epoch 5/50\n",
      "\u001b[1m362/362\u001b[0m \u001b[32m━━━━━━━━━━━━━━━━━━━━\u001b[0m\u001b[37m\u001b[0m \u001b[1m0s\u001b[0m 828us/step - loss: 4.2285 - mae: 1.6001 - val_loss: 4.0260 - val_mae: 1.5697\n",
      "Epoch 6/50\n",
      "\u001b[1m362/362\u001b[0m \u001b[32m━━━━━━━━━━━━━━━━━━━━\u001b[0m\u001b[37m\u001b[0m \u001b[1m0s\u001b[0m 832us/step - loss: 4.2285 - mae: 1.6001 - val_loss: 4.0260 - val_mae: 1.5697\n",
      "Epoch 7/50\n",
      "\u001b[1m362/362\u001b[0m \u001b[32m━━━━━━━━━━━━━━━━━━━━\u001b[0m\u001b[37m\u001b[0m \u001b[1m0s\u001b[0m 829us/step - loss: 4.2285 - mae: 1.6001 - val_loss: 4.0260 - val_mae: 1.5697\n",
      "Epoch 8/50\n",
      "\u001b[1m362/362\u001b[0m \u001b[32m━━━━━━━━━━━━━━━━━━━━\u001b[0m\u001b[37m\u001b[0m \u001b[1m0s\u001b[0m 842us/step - loss: 4.2285 - mae: 1.6001 - val_loss: 4.0260 - val_mae: 1.5697\n",
      "Epoch 9/50\n",
      "\u001b[1m362/362\u001b[0m \u001b[32m━━━━━━━━━━━━━━━━━━━━\u001b[0m\u001b[37m\u001b[0m \u001b[1m0s\u001b[0m 849us/step - loss: 4.2285 - mae: 1.6001 - val_loss: 4.0260 - val_mae: 1.5697\n",
      "Epoch 10/50\n",
      "\u001b[1m362/362\u001b[0m \u001b[32m━━━━━━━━━━━━━━━━━━━━\u001b[0m\u001b[37m\u001b[0m \u001b[1m0s\u001b[0m 828us/step - loss: 4.2285 - mae: 1.6001 - val_loss: 4.0260 - val_mae: 1.5697\n",
      "Epoch 11/50\n",
      "\u001b[1m362/362\u001b[0m \u001b[32m━━━━━━━━━━━━━━━━━━━━\u001b[0m\u001b[37m\u001b[0m \u001b[1m0s\u001b[0m 915us/step - loss: 4.2285 - mae: 1.6001 - val_loss: 4.0260 - val_mae: 1.5697\n",
      "Epoch 12/50\n",
      "\u001b[1m362/362\u001b[0m \u001b[32m━━━━━━━━━━━━━━━━━━━━\u001b[0m\u001b[37m\u001b[0m \u001b[1m0s\u001b[0m 843us/step - loss: 4.2285 - mae: 1.6001 - val_loss: 4.0260 - val_mae: 1.5697\n",
      "Epoch 13/50\n",
      "\u001b[1m362/362\u001b[0m \u001b[32m━━━━━━━━━━━━━━━━━━━━\u001b[0m\u001b[37m\u001b[0m \u001b[1m0s\u001b[0m 847us/step - loss: 4.2285 - mae: 1.6001 - val_loss: 4.0260 - val_mae: 1.5697\n",
      "Epoch 14/50\n",
      "\u001b[1m362/362\u001b[0m \u001b[32m━━━━━━━━━━━━━━━━━━━━\u001b[0m\u001b[37m\u001b[0m \u001b[1m0s\u001b[0m 820us/step - loss: 4.2285 - mae: 1.6001 - val_loss: 4.0260 - val_mae: 1.5697\n",
      "Epoch 15/50\n",
      "\u001b[1m362/362\u001b[0m \u001b[32m━━━━━━━━━━━━━━━━━━━━\u001b[0m\u001b[37m\u001b[0m \u001b[1m0s\u001b[0m 824us/step - loss: 4.2285 - mae: 1.6001 - val_loss: 4.0260 - val_mae: 1.5697\n",
      "Epoch 16/50\n",
      "\u001b[1m362/362\u001b[0m \u001b[32m━━━━━━━━━━━━━━━━━━━━\u001b[0m\u001b[37m\u001b[0m \u001b[1m0s\u001b[0m 853us/step - loss: 4.2285 - mae: 1.6001 - val_loss: 4.0260 - val_mae: 1.5697\n",
      "Epoch 17/50\n",
      "\u001b[1m362/362\u001b[0m \u001b[32m━━━━━━━━━━━━━━━━━━━━\u001b[0m\u001b[37m\u001b[0m \u001b[1m0s\u001b[0m 901us/step - loss: 4.2285 - mae: 1.6001 - val_loss: 4.0260 - val_mae: 1.5697\n",
      "Epoch 18/50\n",
      "\u001b[1m362/362\u001b[0m \u001b[32m━━━━━━━━━━━━━━━━━━━━\u001b[0m\u001b[37m\u001b[0m \u001b[1m0s\u001b[0m 855us/step - loss: 4.2285 - mae: 1.6001 - val_loss: 4.0260 - val_mae: 1.5697\n",
      "Epoch 19/50\n",
      "\u001b[1m362/362\u001b[0m \u001b[32m━━━━━━━━━━━━━━━━━━━━\u001b[0m\u001b[37m\u001b[0m \u001b[1m0s\u001b[0m 855us/step - loss: 4.2285 - mae: 1.6001 - val_loss: 4.0260 - val_mae: 1.5697\n",
      "Epoch 20/50\n",
      "\u001b[1m362/362\u001b[0m \u001b[32m━━━━━━━━━━━━━━━━━━━━\u001b[0m\u001b[37m\u001b[0m \u001b[1m0s\u001b[0m 905us/step - loss: 4.2285 - mae: 1.6001 - val_loss: 4.0260 - val_mae: 1.5697\n",
      "Epoch 21/50\n",
      "\u001b[1m362/362\u001b[0m \u001b[32m━━━━━━━━━━━━━━━━━━━━\u001b[0m\u001b[37m\u001b[0m \u001b[1m0s\u001b[0m 845us/step - loss: 4.2285 - mae: 1.6001 - val_loss: 4.0260 - val_mae: 1.5697\n",
      "Epoch 22/50\n",
      "\u001b[1m362/362\u001b[0m \u001b[32m━━━━━━━━━━━━━━━━━━━━\u001b[0m\u001b[37m\u001b[0m \u001b[1m0s\u001b[0m 901us/step - loss: 4.2285 - mae: 1.6001 - val_loss: 4.0260 - val_mae: 1.5697\n",
      "Epoch 23/50\n",
      "\u001b[1m362/362\u001b[0m \u001b[32m━━━━━━━━━━━━━━━━━━━━\u001b[0m\u001b[37m\u001b[0m \u001b[1m0s\u001b[0m 915us/step - loss: 4.2285 - mae: 1.6001 - val_loss: 4.0260 - val_mae: 1.5697\n",
      "Epoch 24/50\n",
      "\u001b[1m362/362\u001b[0m \u001b[32m━━━━━━━━━━━━━━━━━━━━\u001b[0m\u001b[37m\u001b[0m \u001b[1m0s\u001b[0m 860us/step - loss: 4.2285 - mae: 1.6001 - val_loss: 4.0260 - val_mae: 1.5697\n",
      "Epoch 25/50\n",
      "\u001b[1m362/362\u001b[0m \u001b[32m━━━━━━━━━━━━━━━━━━━━\u001b[0m\u001b[37m\u001b[0m \u001b[1m0s\u001b[0m 886us/step - loss: 4.2285 - mae: 1.6001 - val_loss: 4.0260 - val_mae: 1.5697\n",
      "Epoch 26/50\n",
      "\u001b[1m362/362\u001b[0m \u001b[32m━━━━━━━━━━━━━━━━━━━━\u001b[0m\u001b[37m\u001b[0m \u001b[1m0s\u001b[0m 848us/step - loss: 4.2285 - mae: 1.6001 - val_loss: 4.0260 - val_mae: 1.5697\n",
      "Epoch 27/50\n",
      "\u001b[1m362/362\u001b[0m \u001b[32m━━━━━━━━━━━━━━━━━━━━\u001b[0m\u001b[37m\u001b[0m \u001b[1m0s\u001b[0m 820us/step - loss: 4.2285 - mae: 1.6001 - val_loss: 4.0260 - val_mae: 1.5697\n",
      "Epoch 28/50\n",
      "\u001b[1m362/362\u001b[0m \u001b[32m━━━━━━━━━━━━━━━━━━━━\u001b[0m\u001b[37m\u001b[0m \u001b[1m0s\u001b[0m 858us/step - loss: 4.2285 - mae: 1.6001 - val_loss: 4.0260 - val_mae: 1.5697\n",
      "Epoch 29/50\n",
      "\u001b[1m362/362\u001b[0m \u001b[32m━━━━━━━━━━━━━━━━━━━━\u001b[0m\u001b[37m\u001b[0m \u001b[1m0s\u001b[0m 984us/step - loss: 4.2285 - mae: 1.6001 - val_loss: 4.0260 - val_mae: 1.5697\n",
      "Epoch 30/50\n",
      "\u001b[1m362/362\u001b[0m \u001b[32m━━━━━━━━━━━━━━━━━━━━\u001b[0m\u001b[37m\u001b[0m \u001b[1m0s\u001b[0m 868us/step - loss: 4.2285 - mae: 1.6001 - val_loss: 4.0260 - val_mae: 1.5697\n",
      "Epoch 31/50\n",
      "\u001b[1m362/362\u001b[0m \u001b[32m━━━━━━━━━━━━━━━━━━━━\u001b[0m\u001b[37m\u001b[0m \u001b[1m0s\u001b[0m 804us/step - loss: 4.2285 - mae: 1.6001 - val_loss: 4.0260 - val_mae: 1.5697\n",
      "Epoch 32/50\n",
      "\u001b[1m362/362\u001b[0m \u001b[32m━━━━━━━━━━━━━━━━━━━━\u001b[0m\u001b[37m\u001b[0m \u001b[1m0s\u001b[0m 934us/step - loss: 4.2285 - mae: 1.6001 - val_loss: 4.0260 - val_mae: 1.5697\n",
      "Epoch 33/50\n",
      "\u001b[1m362/362\u001b[0m \u001b[32m━━━━━━━━━━━━━━━━━━━━\u001b[0m\u001b[37m\u001b[0m \u001b[1m0s\u001b[0m 889us/step - loss: 4.2285 - mae: 1.6001 - val_loss: 4.0260 - val_mae: 1.5697\n",
      "Epoch 34/50\n",
      "\u001b[1m362/362\u001b[0m \u001b[32m━━━━━━━━━━━━━━━━━━━━\u001b[0m\u001b[37m\u001b[0m \u001b[1m0s\u001b[0m 886us/step - loss: 4.2285 - mae: 1.6001 - val_loss: 4.0260 - val_mae: 1.5697\n",
      "Epoch 35/50\n",
      "\u001b[1m362/362\u001b[0m \u001b[32m━━━━━━━━━━━━━━━━━━━━\u001b[0m\u001b[37m\u001b[0m \u001b[1m0s\u001b[0m 918us/step - loss: 4.2285 - mae: 1.6001 - val_loss: 4.0260 - val_mae: 1.5697\n",
      "Epoch 36/50\n",
      "\u001b[1m362/362\u001b[0m \u001b[32m━━━━━━━━━━━━━━━━━━━━\u001b[0m\u001b[37m\u001b[0m \u001b[1m0s\u001b[0m 872us/step - loss: 4.2285 - mae: 1.6001 - val_loss: 4.0260 - val_mae: 1.5697\n",
      "Epoch 37/50\n",
      "\u001b[1m362/362\u001b[0m \u001b[32m━━━━━━━━━━━━━━━━━━━━\u001b[0m\u001b[37m\u001b[0m \u001b[1m0s\u001b[0m 868us/step - loss: 4.2285 - mae: 1.6001 - val_loss: 4.0260 - val_mae: 1.5697\n",
      "Epoch 38/50\n",
      "\u001b[1m362/362\u001b[0m \u001b[32m━━━━━━━━━━━━━━━━━━━━\u001b[0m\u001b[37m\u001b[0m \u001b[1m0s\u001b[0m 820us/step - loss: 4.2285 - mae: 1.6001 - val_loss: 4.0260 - val_mae: 1.5697\n",
      "Epoch 39/50\n",
      "\u001b[1m362/362\u001b[0m \u001b[32m━━━━━━━━━━━━━━━━━━━━\u001b[0m\u001b[37m\u001b[0m \u001b[1m0s\u001b[0m 878us/step - loss: 4.2285 - mae: 1.6001 - val_loss: 4.0260 - val_mae: 1.5697\n",
      "Epoch 40/50\n",
      "\u001b[1m362/362\u001b[0m \u001b[32m━━━━━━━━━━━━━━━━━━━━\u001b[0m\u001b[37m\u001b[0m \u001b[1m0s\u001b[0m 834us/step - loss: 4.2285 - mae: 1.6001 - val_loss: 4.0260 - val_mae: 1.5697\n",
      "Epoch 41/50\n",
      "\u001b[1m362/362\u001b[0m \u001b[32m━━━━━━━━━━━━━━━━━━━━\u001b[0m\u001b[37m\u001b[0m \u001b[1m0s\u001b[0m 859us/step - loss: 4.2285 - mae: 1.6001 - val_loss: 4.0260 - val_mae: 1.5697\n",
      "Epoch 42/50\n",
      "\u001b[1m362/362\u001b[0m \u001b[32m━━━━━━━━━━━━━━━━━━━━\u001b[0m\u001b[37m\u001b[0m \u001b[1m0s\u001b[0m 976us/step - loss: 4.2285 - mae: 1.6001 - val_loss: 4.0260 - val_mae: 1.5697\n",
      "Epoch 43/50\n",
      "\u001b[1m362/362\u001b[0m \u001b[32m━━━━━━━━━━━━━━━━━━━━\u001b[0m\u001b[37m\u001b[0m \u001b[1m0s\u001b[0m 925us/step - loss: 4.2285 - mae: 1.6001 - val_loss: 4.0260 - val_mae: 1.5697\n",
      "Epoch 44/50\n",
      "\u001b[1m362/362\u001b[0m \u001b[32m━━━━━━━━━━━━━━━━━━━━\u001b[0m\u001b[37m\u001b[0m \u001b[1m0s\u001b[0m 940us/step - loss: 4.2285 - mae: 1.6001 - val_loss: 4.0260 - val_mae: 1.5697\n",
      "Epoch 45/50\n",
      "\u001b[1m362/362\u001b[0m \u001b[32m━━━━━━━━━━━━━━━━━━━━\u001b[0m\u001b[37m\u001b[0m \u001b[1m0s\u001b[0m 899us/step - loss: 4.2285 - mae: 1.6001 - val_loss: 4.0260 - val_mae: 1.5697\n",
      "Epoch 46/50\n",
      "\u001b[1m362/362\u001b[0m \u001b[32m━━━━━━━━━━━━━━━━━━━━\u001b[0m\u001b[37m\u001b[0m \u001b[1m0s\u001b[0m 871us/step - loss: 4.2285 - mae: 1.6001 - val_loss: 4.0260 - val_mae: 1.5697\n",
      "Epoch 47/50\n",
      "\u001b[1m362/362\u001b[0m \u001b[32m━━━━━━━━━━━━━━━━━━━━\u001b[0m\u001b[37m\u001b[0m \u001b[1m0s\u001b[0m 882us/step - loss: 4.2285 - mae: 1.6001 - val_loss: 4.0260 - val_mae: 1.5697\n",
      "Epoch 48/50\n",
      "\u001b[1m362/362\u001b[0m \u001b[32m━━━━━━━━━━━━━━━━━━━━\u001b[0m\u001b[37m\u001b[0m \u001b[1m0s\u001b[0m 922us/step - loss: 4.2285 - mae: 1.6001 - val_loss: 4.0260 - val_mae: 1.5697\n",
      "Epoch 49/50\n",
      "\u001b[1m362/362\u001b[0m \u001b[32m━━━━━━━━━━━━━━━━━━━━\u001b[0m\u001b[37m\u001b[0m \u001b[1m0s\u001b[0m 853us/step - loss: 4.2285 - mae: 1.6001 - val_loss: 4.0260 - val_mae: 1.5697\n",
      "Epoch 50/50\n",
      "\u001b[1m362/362\u001b[0m \u001b[32m━━━━━━━━━━━━━━━━━━━━\u001b[0m\u001b[37m\u001b[0m \u001b[1m0s\u001b[0m 826us/step - loss: 4.2285 - mae: 1.6001 - val_loss: 4.0260 - val_mae: 1.5697\n"
     ]
    },
    {
     "data": {
      "image/png": "[encoded data removed]",
      "text/plain": [
       "<Figure size 1440x864 with 1 Axes>"
      ]
     },
     "metadata": {
      "needs_background": "light"
     },
     "output_type": "display_data"
    }
   ],
   "source": [
    "# Modelin eğitim sırasında kayıp (loss) ve doğrulama kaybı (validation loss) değerleri\n",
    "history = mlp.fit(X_train, y_train, epochs=50, batch_size=32, validation_split=0.1)\n",
    "\n",
    "# Modelin eğitim sürecindeki kayıp (loss) değerleri\n",
    "loss = history.history['loss']\n",
    "\n",
    "# Modelin eğitim sürecindeki doğrulama kaybı (validation loss) değerleri\n",
    "val_loss = history.history['val_loss']\n",
    "\n",
    "# Eğitim ve doğrulama kaybı grafiği çizimi\n",
    "epochs = range(1, len(loss) + 1)\n",
    "\n",
    "plt.figure(figsize=(20, 12))\n",
    "\n",
    "plt.plot(epochs, loss, 'bo', label='Loss')\n",
    "plt.plot(epochs, val_loss, 'r', label='Validation Loss')\n",
    "plt.title('Loss vs Validation Loss')\n",
    "plt.xlabel('Epochs')\n",
    "plt.ylabel('Loss')\n",
    "plt.legend()\n",
    "\n",
    "plt.show()"
   ]
  },
  {
   "cell_type": "markdown",
   "id": "e48e76b4",
   "metadata": {},
   "source": [
    "### Üç model de forecasting açısından güzel sonuçlar verdi. Özellikle ML uygulamaları hız açısından dinamik veri sistemi oluşturulacaksa böyle bir veri için uygun olabilir"
   ]
  },
  {
   "cell_type": "code",
   "execution_count": null,
   "id": "3e25b7bb",
   "metadata": {},
   "outputs": [],
   "source": []
  }
 ],
 "metadata": {
  "kernelspec": {
   "display_name": "Python 3 (ipykernel)",
   "language": "python",
   "name": "python3"
  },
  "language_info": {
   "codemirror_mode": {
    "name": "ipython",
    "version": 3
   },
   "file_extension": ".py",
   "mimetype": "text/x-python",
   "name": "python",
   "nbconvert_exporter": "python",
   "pygments_lexer": "ipython3",
   "version": "3.10.4"
  }
 },
 "nbformat": 4,
 "nbformat_minor": 5
}
